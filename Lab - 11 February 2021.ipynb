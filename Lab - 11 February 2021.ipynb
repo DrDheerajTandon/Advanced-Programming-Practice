{
 "cells": [
  {
   "cell_type": "markdown",
   "metadata": {},
   "source": [
    "# 4. Write a python program which will have list of values and then input a number and check if the value is present in the list or not. and if present, print the number of occurances. \n"
   ]
  },
  {
   "cell_type": "code",
   "execution_count": 2,
   "metadata": {},
   "outputs": [
    {
     "name": "stdout",
     "output_type": "stream",
     "text": [
      "Enter the number of elements: 7\n",
      "Enter the element: 1\n",
      "Enter the element: 2\n",
      "Enter the element: 2\n",
      "Enter the element: 2\n",
      "Enter the element: 3\n",
      "Enter the element: 4\n",
      "Enter the element: 5\n",
      "The list is [1, 2, 2, 2, 3, 4, 5]\n",
      "Enter the number to check:2\n",
      "2 is present in the list 3 times\n"
     ]
    }
   ],
   "source": [
    "L = []\n",
    "n = int(input('Enter the number of elements: '))\n",
    "for i in range(n):\n",
    "    el = int(input('Enter the element: '))\n",
    "    L.append(el)\n",
    "print('The list is',L)\n",
    "num = int(input('Enter the number to check:'))\n",
    "if num in L:\n",
    "    print(num,'is present in the list',L.count(num),'times')\n",
    "else:\n",
    "    print('Element does not exist')"
   ]
  },
  {
   "cell_type": "markdown",
   "metadata": {},
   "source": [
    "# 5. Write a Python program to remove duplicates from a list."
   ]
  },
  {
   "cell_type": "code",
   "execution_count": 3,
   "metadata": {},
   "outputs": [
    {
     "name": "stdout",
     "output_type": "stream",
     "text": [
      "Enter the number of elements: 10\n",
      "Enter the element: 1\n",
      "Enter the element: 2\n",
      "Enter the element: 3\n",
      "Enter the element: 4\n",
      "Enter the element: 4\n",
      "Enter the element: 5\n",
      "Enter the element: 2\n",
      "Enter the element: 4\n",
      "Enter the element: 6\n",
      "Enter the element: 7\n",
      "The list is [1, 2, 3, 4, 4, 5, 2, 4, 6, 7]\n",
      "The unique list is [1, 2, 3, 4, 5, 6, 7]\n"
     ]
    }
   ],
   "source": [
    "L = []\n",
    "unique = []\n",
    "n = int(input('Enter the number of elements: '))\n",
    "for i in range(n):\n",
    "    el = int(input('Enter the element: '))\n",
    "    L.append(el)\n",
    "print('The list is',L)\n",
    "for i in L:\n",
    "    if i not in unique:\n",
    "        unique.append(i)\n",
    "    \n",
    "print('The unique list is',unique)"
   ]
  },
  {
   "cell_type": "code",
   "execution_count": null,
   "metadata": {},
   "outputs": [],
   "source": [
    "L = [1,2,2,3,4,5,6]\n",
    "unique = []\n",
    "for i in L:\n",
    "    if i not in unique:\n",
    "        unique.append(i)\n",
    "    \n",
    "print('The unique list is',unique)"
   ]
  },
  {
   "cell_type": "code",
   "execution_count": null,
   "metadata": {},
   "outputs": [],
   "source": []
  }
 ],
 "metadata": {
  "kernelspec": {
   "display_name": "Python 3",
   "language": "python",
   "name": "python3"
  },
  "language_info": {
   "codemirror_mode": {
    "name": "ipython",
    "version": 3
   },
   "file_extension": ".py",
   "mimetype": "text/x-python",
   "name": "python",
   "nbconvert_exporter": "python",
   "pygments_lexer": "ipython3",
   "version": "3.9.1"
  }
 },
 "nbformat": 4,
 "nbformat_minor": 4
}
