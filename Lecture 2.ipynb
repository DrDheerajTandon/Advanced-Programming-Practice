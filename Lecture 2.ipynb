{
 "cells": [
  {
   "cell_type": "markdown",
   "metadata": {},
   "source": [
    "# Comments in Python\n"
   ]
  },
  {
   "cell_type": "code",
   "execution_count": null,
   "metadata": {},
   "outputs": [],
   "source": [
    "print(objects,sep,end,file,flush)\n",
    "objects = values\n",
    "sep = separator , default value: space\n",
    "end = default value: '\\n'\n",
    "file = std.stdout, output console\n",
    "flush = default value: False"
   ]
  },
  {
   "cell_type": "code",
   "execution_count": 2,
   "metadata": {},
   "outputs": [
    {
     "name": "stdout",
     "output_type": "stream",
     "text": [
      "SRM-IST\n"
     ]
    }
   ],
   "source": [
    "print('SRM','IST',sep='-')"
   ]
  },
  {
   "cell_type": "code",
   "execution_count": 3,
   "metadata": {},
   "outputs": [
    {
     "name": "stdout",
     "output_type": "stream",
     "text": [
      "SRM%IST\n"
     ]
    }
   ],
   "source": [
    "print('SRM','IST',sep='%')"
   ]
  },
  {
   "cell_type": "code",
   "execution_count": null,
   "metadata": {},
   "outputs": [],
   "source": [
    "SRM IST"
   ]
  },
  {
   "cell_type": "code",
   "execution_count": 9,
   "metadata": {},
   "outputs": [
    {
     "name": "stdout",
     "output_type": "stream",
     "text": [
      "SRM IST\n"
     ]
    }
   ],
   "source": [
    "print('SRM',end=' ')\n",
    "print('IST')"
   ]
  },
  {
   "cell_type": "code",
   "execution_count": null,
   "metadata": {},
   "outputs": [],
   "source": [
    "basic_sal \n",
    "da = 20% basic_ salary\n",
    "hra = 30% basic Salary\n",
    "gross_salary =?"
   ]
  },
  {
   "cell_type": "code",
   "execution_count": 14,
   "metadata": {},
   "outputs": [
    {
     "name": "stdout",
     "output_type": "stream",
     "text": [
      "Enter the basic salary: 12000\n",
      "The gross salary is:  18000.0\n"
     ]
    }
   ],
   "source": [
    "bs = int(input('Enter the basic salary: '))\n",
    "# type(bs)\n",
    "da = 0.20*bs\n",
    "hra =0.30*bs\n",
    "gs = bs+da+hra\n",
    "print('The gross salary is: ',gs)"
   ]
  },
  {
   "cell_type": "code",
   "execution_count": 15,
   "metadata": {},
   "outputs": [
    {
     "name": "stdout",
     "output_type": "stream",
     "text": [
      "2.3333333333333335\n"
     ]
    }
   ],
   "source": [
    "print(7/3)"
   ]
  },
  {
   "cell_type": "code",
   "execution_count": 16,
   "metadata": {},
   "outputs": [
    {
     "name": "stdout",
     "output_type": "stream",
     "text": [
      "2\n"
     ]
    }
   ],
   "source": [
    "print(7//3) # // integer divison"
   ]
  },
  {
   "cell_type": "code",
   "execution_count": 19,
   "metadata": {},
   "outputs": [
    {
     "name": "stdout",
     "output_type": "stream",
     "text": [
      "Enter the five digit number: 98775\n",
      "The sum of digits is:  36\n"
     ]
    }
   ],
   "source": [
    "# n= 12345 \n",
    "#sum =15\n",
    "s = 0\n",
    "n = int(input('Enter the five digit number: '))\n",
    "a = n%10 # 5\n",
    "s = s+a # 5\n",
    "n = n//10 #1234\n",
    "\n",
    "a = n%10 # 4\n",
    "s = s+a #9\n",
    "n = n//10 #123\n",
    "\n",
    "a = n%10 # 3\n",
    "s = s+a # 12\n",
    "n = n//10 #12\n",
    "\n",
    "a = n%10 # 2\n",
    "s = s+a # 14\n",
    "n = n//10 #1\n",
    "\n",
    "a = n%10 # 1\n",
    "s = s+a # 15\n",
    "n = n//10 # 0\n",
    "\n",
    "print('The sum of digits is: ',s)"
   ]
  },
  {
   "cell_type": "code",
   "execution_count": 21,
   "metadata": {},
   "outputs": [
    {
     "name": "stdout",
     "output_type": "stream",
     "text": [
      "Enter the number: 20\n"
     ]
    }
   ],
   "source": [
    "n = int(input('Enter the number: '))\n",
    "if n<10:\n",
    "    print('SRM')"
   ]
  },
  {
   "cell_type": "code",
   "execution_count": 24,
   "metadata": {},
   "outputs": [
    {
     "name": "stdout",
     "output_type": "stream",
     "text": [
      "Enter the number: 3\n",
      "SRM\n"
     ]
    }
   ],
   "source": [
    "n = int(input('Enter the number: '))\n",
    "if n<10:\n",
    "    print('SRM')\n",
    "else:\n",
    "    print('India')"
   ]
  }
 ],
 "metadata": {
  "kernelspec": {
   "display_name": "Python 3",
   "language": "python",
   "name": "python3"
  },
  "language_info": {
   "codemirror_mode": {
    "name": "ipython",
    "version": 3
   },
   "file_extension": ".py",
   "mimetype": "text/x-python",
   "name": "python",
   "nbconvert_exporter": "python",
   "pygments_lexer": "ipython3",
   "version": "3.9.1"
  }
 },
 "nbformat": 4,
 "nbformat_minor": 4
}
