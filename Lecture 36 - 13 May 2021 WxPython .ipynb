{
 "cells": [
  {
   "cell_type": "code",
   "execution_count": 1,
   "metadata": {},
   "outputs": [
    {
     "data": {
      "text/plain": [
       "0"
      ]
     },
     "execution_count": 1,
     "metadata": {},
     "output_type": "execute_result"
    }
   ],
   "source": [
    "from wx import *\n",
    "app = App()\n",
    "frm = Frame(None, title=\"Hello World\")\n",
    "frm.Show()\n",
    "app.MainLoop()"
   ]
  },
  {
   "cell_type": "code",
   "execution_count": null,
   "metadata": {},
   "outputs": [],
   "source": [
    "from wx import *\n",
    "class MyFrame(Frame):\n",
    "\tdef __init__(self,parent,title):\n",
    "\t\tsuper(MyFrame,self).__init__(parent,title=title)\n",
    "        \n",
    "class MyApp(App):\n",
    "\tdef OnInit(self):\n",
    "\t\tself.frame = MyFrame(parent=None,title='first window')\n",
    "\t\tself.frame.Show()\n",
    "\t\treturn True\n",
    "app = MyApp()\n",
    "app.MainLoop()\n"
   ]
  },
  {
   "cell_type": "code",
   "execution_count": 1,
   "metadata": {},
   "outputs": [
    {
     "data": {
      "text/plain": [
       "0"
      ]
     },
     "execution_count": 1,
     "metadata": {},
     "output_type": "execute_result"
    }
   ],
   "source": [
    "from wx import *\n",
    "class MyFrame(Frame):\n",
    "\tdef __init__(self,parent,title):\n",
    "\t\tsuper(MyFrame,self).__init__(parent,title=title,size=(600,400))\n",
    "class MyApp(App):\n",
    "\tdef OnInit(self):\n",
    "\t\tself.frame = MyFrame(parent=None,title='first window')\n",
    "\t\tself.frame.Show()\n",
    "\t\treturn True\n",
    "app = MyApp()\n",
    "app.MainLoop()"
   ]
  },
  {
   "cell_type": "code",
   "execution_count": 2,
   "metadata": {},
   "outputs": [
    {
     "data": {
      "text/plain": [
       "0"
      ]
     },
     "execution_count": 2,
     "metadata": {},
     "output_type": "execute_result"
    }
   ],
   "source": [
    "import PyQt5.QtWidgets as qtw\n",
    "\n",
    "class MainWindow(qtw.QWidget):\n",
    "\tdef __init__(self):\n",
    "\t\tsuper().__init__()\n",
    "\t\tself.show()\n",
    "\n",
    "app = qtw.QApplication([])\n",
    "mw = MainWindow()\n",
    "app.exec_()"
   ]
  }
 ],
 "metadata": {
  "kernelspec": {
   "display_name": "Python 3",
   "language": "python",
   "name": "python3"
  },
  "language_info": {
   "codemirror_mode": {
    "name": "ipython",
    "version": 3
   },
   "file_extension": ".py",
   "mimetype": "text/x-python",
   "name": "python",
   "nbconvert_exporter": "python",
   "pygments_lexer": "ipython3",
   "version": "3.9.1"
  }
 },
 "nbformat": 4,
 "nbformat_minor": 4
}
