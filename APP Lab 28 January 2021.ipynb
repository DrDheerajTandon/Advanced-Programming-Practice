{
 "cells": [
  {
   "cell_type": "markdown",
   "metadata": {},
   "source": [
    "# Infinite Loop"
   ]
  },
  {
   "cell_type": "code",
   "execution_count": 1,
   "metadata": {},
   "outputs": [
    {
     "name": "stdout",
     "output_type": "stream",
     "text": [
      "Enter the number: 3\n",
      "9\n",
      "Enter the number: 7\n",
      "49\n",
      "Enter the number: \n"
     ]
    },
    {
     "ename": "ValueError",
     "evalue": "invalid literal for int() with base 10: ''",
     "output_type": "error",
     "traceback": [
      "\u001b[1;31m---------------------------------------------------------------------------\u001b[0m",
      "\u001b[1;31mValueError\u001b[0m                                Traceback (most recent call last)",
      "\u001b[1;32m<ipython-input-1-16ab74eaf853>\u001b[0m in \u001b[0;36m<module>\u001b[1;34m\u001b[0m\n\u001b[0;32m      1\u001b[0m \u001b[1;32mwhile\u001b[0m \u001b[1;32mTrue\u001b[0m\u001b[1;33m:\u001b[0m\u001b[1;33m\u001b[0m\u001b[1;33m\u001b[0m\u001b[0m\n\u001b[1;32m----> 2\u001b[1;33m    \u001b[0mn\u001b[0m \u001b[1;33m=\u001b[0m \u001b[0mint\u001b[0m\u001b[1;33m(\u001b[0m\u001b[0minput\u001b[0m\u001b[1;33m(\u001b[0m\u001b[1;34m'Enter the number: '\u001b[0m\u001b[1;33m)\u001b[0m\u001b[1;33m)\u001b[0m\u001b[1;33m\u001b[0m\u001b[1;33m\u001b[0m\u001b[0m\n\u001b[0m\u001b[0;32m      3\u001b[0m    \u001b[0mprint\u001b[0m\u001b[1;33m(\u001b[0m\u001b[0mn\u001b[0m\u001b[1;33m*\u001b[0m\u001b[0mn\u001b[0m\u001b[1;33m)\u001b[0m\u001b[1;33m\u001b[0m\u001b[1;33m\u001b[0m\u001b[0m\n",
      "\u001b[1;31mValueError\u001b[0m: invalid literal for int() with base 10: ''"
     ]
    }
   ],
   "source": [
    " while True:\n",
    "    n = int(input('Enter the number: '))\n",
    "    print(n*n)"
   ]
  },
  {
   "cell_type": "code",
   "execution_count": 2,
   "metadata": {},
   "outputs": [
    {
     "name": "stdout",
     "output_type": "stream",
     "text": [
      "Enter the number: 2\n",
      "4\n",
      "Do you want to continue(y/n)? y\n",
      "Enter the number: 5\n",
      "25\n",
      "Do you want to continue(y/n)? n\n"
     ]
    }
   ],
   "source": [
    " while True:\n",
    "    n = int(input('Enter the number: '))\n",
    "    print(n*n)\n",
    "    ch = input('Do you want to continue(y/n)? ')\n",
    "    if ch == 'n':\n",
    "        break"
   ]
  },
  {
   "cell_type": "markdown",
   "metadata": {},
   "source": [
    "# 1. Write a Python program to print the table of the given number.\n",
    "\n",
    "# 5 * 1 = 5\n",
    "# 5 * 2 = 10\n",
    "# 5 * 3 = 15\n",
    "# 5 * 4 = 20\n",
    "# 5 * 5 = 25\n",
    "# .\n",
    "# .\n",
    "# .\n",
    "# 5 * 10 = 50"
   ]
  },
  {
   "cell_type": "code",
   "execution_count": 3,
   "metadata": {},
   "outputs": [
    {
     "name": "stdout",
     "output_type": "stream",
     "text": [
      "Enter the number: 4\n",
      "4 * 1 = 4\n",
      "4 * 2 = 8\n",
      "4 * 3 = 12\n",
      "4 * 4 = 16\n",
      "4 * 5 = 20\n",
      "4 * 6 = 24\n",
      "4 * 7 = 28\n",
      "4 * 8 = 32\n",
      "4 * 9 = 36\n",
      "4 * 10 = 40\n"
     ]
    }
   ],
   "source": [
    "n = int(input('Enter the number: '))\n",
    "for i in range(1,11):\n",
    "    print(n,'*',i,'=',n*i)"
   ]
  },
  {
   "cell_type": "markdown",
   "metadata": {},
   "source": [
    "# 2. Write a Python program to calculate the factorial of the given number.\n",
    "\n",
    "# !5 = 120\n"
   ]
  },
  {
   "cell_type": "code",
   "execution_count": 4,
   "metadata": {},
   "outputs": [
    {
     "name": "stdout",
     "output_type": "stream",
     "text": [
      "Enter the number: 5\n",
      "The factorial of 5 is 120\n"
     ]
    }
   ],
   "source": [
    "n = int(input('Enter the number: ')) #5\n",
    "f = 1\n",
    "for i in range(1,n+1): # 1 2 3 4 5\n",
    "    f = f*i\n",
    "print('The factorial of',n,'is',f)"
   ]
  },
  {
   "cell_type": "markdown",
   "metadata": {},
   "source": [
    "# 3. Write a Python program to calculate the sum of digits of a 5 digits number. "
   ]
  },
  {
   "cell_type": "code",
   "execution_count": 5,
   "metadata": {},
   "outputs": [
    {
     "name": "stdout",
     "output_type": "stream",
     "text": [
      "Enter the number: 12345\n",
      "The sum of digits is 15\n"
     ]
    }
   ],
   "source": [
    "n = int(input('Enter the number: '))\n",
    "s = 0\n",
    "while n>0:\n",
    "    a = n%10\n",
    "    s = s+a\n",
    "    n = n//10\n",
    "print('The sum of digits is',s)"
   ]
  },
  {
   "cell_type": "markdown",
   "metadata": {},
   "source": [
    "# 4. Write a Python program to calculate the reverse number of a 5 digits number. "
   ]
  },
  {
   "cell_type": "code",
   "execution_count": 6,
   "metadata": {},
   "outputs": [
    {
     "name": "stdout",
     "output_type": "stream",
     "text": [
      "Enter the number: 34567\n",
      "The reverse number is 76543\n"
     ]
    }
   ],
   "source": [
    "n = int(input('Enter the number: '))\n",
    "rev = 0\n",
    "while n>0:\n",
    "    a = n%10\n",
    "    rev = rev*10+a\n",
    "    n = n//10\n",
    "print('The reverse number is',rev)"
   ]
  },
  {
   "cell_type": "markdown",
   "metadata": {},
   "source": [
    "# 5. Write a Python program to check whether the given number is prime or not.\n",
    "# prime number\n",
    "# smallest prime number ? ans: 2"
   ]
  },
  {
   "cell_type": "code",
   "execution_count": 10,
   "metadata": {},
   "outputs": [
    {
     "name": "stdout",
     "output_type": "stream",
     "text": [
      "Enter the number: 2\n",
      "Not Prime\n"
     ]
    }
   ],
   "source": [
    "n  = int(input('Enter the number: '))\n",
    "for i in range(1,n):\n",
    "    if n%i == 0:\n",
    "        f = 0\n",
    "        break\n",
    "    else:\n",
    "        f = 1\n",
    "if f == 1:\n",
    "    print('Prime Number')\n",
    "else:\n",
    "    print('Not Prime')"
   ]
  },
  {
   "cell_type": "code",
   "execution_count": 14,
   "metadata": {},
   "outputs": [
    {
     "name": "stdout",
     "output_type": "stream",
     "text": [
      "Enter the number: 4\n",
      "Not Prime\n"
     ]
    }
   ],
   "source": [
    "n  = int(input('Enter the number: '))\n",
    "count  = 0\n",
    "for i in range(1,n+1):\n",
    "    if n%i==0:\n",
    "        count = count+1\n",
    "if count ==2:\n",
    "    print('Prime Number')\n",
    "else:\n",
    "    print('Not Prime')"
   ]
  },
  {
   "cell_type": "markdown",
   "metadata": {},
   "source": [
    "# 6. Write a Python program to print all Prime numbers in given Interval. "
   ]
  },
  {
   "cell_type": "code",
   "execution_count": 15,
   "metadata": {},
   "outputs": [
    {
     "name": "stdout",
     "output_type": "stream",
     "text": [
      "Enter starting number: 11\n",
      "Enter ending number: 20\n",
      "11\n",
      "13\n",
      "17\n",
      "19\n"
     ]
    }
   ],
   "source": [
    "start = int(input('Enter starting number: '))\n",
    "end = int(input('Enter ending number: '))\n",
    "for i in range(start,end+1): # 11-20\n",
    "    if i>1:\n",
    "        for j in range(2,i):\n",
    "            if i%j==0:\n",
    "                break\n",
    "        else:\n",
    "            print(i)    \n",
    "    "
   ]
  },
  {
   "cell_type": "code",
   "execution_count": null,
   "metadata": {},
   "outputs": [],
   "source": []
  }
 ],
 "metadata": {
  "kernelspec": {
   "display_name": "Python 3",
   "language": "python",
   "name": "python3"
  },
  "language_info": {
   "codemirror_mode": {
    "name": "ipython",
    "version": 3
   },
   "file_extension": ".py",
   "mimetype": "text/x-python",
   "name": "python",
   "nbconvert_exporter": "python",
   "pygments_lexer": "ipython3",
   "version": "3.9.1"
  }
 },
 "nbformat": 4,
 "nbformat_minor": 4
}
