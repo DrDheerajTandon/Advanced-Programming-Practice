{
 "cells": [
  {
   "cell_type": "markdown",
   "metadata": {},
   "source": [
    "# OOPS"
   ]
  },
  {
   "cell_type": "code",
   "execution_count": 1,
   "metadata": {},
   "outputs": [
    {
     "name": "stdout",
     "output_type": "stream",
     "text": [
      "<__main__.Empty object at 0x000001511263A040>\n"
     ]
    }
   ],
   "source": [
    "class Empty:\n",
    "    pass\n",
    "\n",
    "E = Empty()\n",
    "print(E)"
   ]
  },
  {
   "cell_type": "code",
   "execution_count": 2,
   "metadata": {},
   "outputs": [
    {
     "name": "stdout",
     "output_type": "stream",
     "text": [
      "Hello\n"
     ]
    }
   ],
   "source": [
    "class Test:\n",
    "    def fun(self):\n",
    "        print('Hello')\n",
    "        \n",
    "T = Test()\n",
    "T.fun()"
   ]
  },
  {
   "cell_type": "code",
   "execution_count": 7,
   "metadata": {},
   "outputs": [
    {
     "name": "stdout",
     "output_type": "stream",
     "text": [
      "Read\n",
      "Write\n",
      "1\n",
      "Amit\n",
      "CSE\n"
     ]
    }
   ],
   "source": [
    "class Student:\n",
    "    roll= 1\n",
    "    name = 'Amit'\n",
    "    branch = 'CSE'\n",
    "    def read(self):\n",
    "        print('Read')\n",
    "        \n",
    "    def write(self):\n",
    "        print('Write')\n",
    "        \n",
    "S = Student()\n",
    "S.read()\n",
    "S.write()\n",
    "print(S.roll)\n",
    "print(S.name)\n",
    "print(S.branch)"
   ]
  },
  {
   "cell_type": "code",
   "execution_count": 9,
   "metadata": {},
   "outputs": [
    {
     "name": "stdout",
     "output_type": "stream",
     "text": [
      "1\n"
     ]
    }
   ],
   "source": [
    "class Student:\n",
    "    roll= 1\n",
    "    name = 'Amit'\n",
    "    branch = 'CSE'\n",
    "    def read(self):\n",
    "        print('Read')\n",
    "        \n",
    "    def write(self):\n",
    "        print('Write')\n",
    "        \n",
    "print(Student.roll)\n",
    "print(Student.name)"
   ]
  },
  {
   "cell_type": "markdown",
   "metadata": {},
   "source": [
    "# Access class Varibales in method"
   ]
  },
  {
   "cell_type": "code",
   "execution_count": 10,
   "metadata": {},
   "outputs": [
    {
     "name": "stdout",
     "output_type": "stream",
     "text": [
      "1\n",
      "Amit\n",
      "CSE\n"
     ]
    }
   ],
   "source": [
    "class Student:\n",
    "    roll= 1\n",
    "    name = 'Amit'\n",
    "    branch = 'CSE'\n",
    "    def read(self):\n",
    "        print(self.roll)\n",
    "        print(self.name)\n",
    "        print(self.branch)\n",
    "        \n",
    "S = Student()\n",
    "S.read()"
   ]
  },
  {
   "cell_type": "code",
   "execution_count": 11,
   "metadata": {},
   "outputs": [
    {
     "name": "stdout",
     "output_type": "stream",
     "text": [
      "10 20\n"
     ]
    }
   ],
   "source": [
    "class Student:\n",
    "    def read(self,a,b):\n",
    "        print(a,b)\n",
    "        \n",
    "S =Student()\n",
    "S.read(10,20)"
   ]
  },
  {
   "cell_type": "code",
   "execution_count": 12,
   "metadata": {},
   "outputs": [
    {
     "name": "stdout",
     "output_type": "stream",
     "text": [
      "10 20\n"
     ]
    }
   ],
   "source": [
    "class Student:\n",
    "    def read(self,a,b):\n",
    "        self.a = a\n",
    "        self.b = b\n",
    "        print(a,b)\n",
    "        \n",
    "S =Student()\n",
    "S.read(10,20)"
   ]
  },
  {
   "cell_type": "code",
   "execution_count": 13,
   "metadata": {},
   "outputs": [
    {
     "name": "stdout",
     "output_type": "stream",
     "text": [
      "Akash\n",
      "CSE\n"
     ]
    }
   ],
   "source": [
    "class Student:\n",
    "    roll = 1\n",
    "    def read(self,name,branch):\n",
    "        self.name = name\n",
    "        self.branch = branch\n",
    "        print(name)\n",
    "        print(branch)\n",
    "        \n",
    "S =Student()\n",
    "S.read('Akash','CSE')"
   ]
  },
  {
   "cell_type": "code",
   "execution_count": 14,
   "metadata": {},
   "outputs": [
    {
     "name": "stdout",
     "output_type": "stream",
     "text": [
      "Akash\n",
      "CSE\n",
      "1\n"
     ]
    }
   ],
   "source": [
    "class Student:\n",
    "    roll = 1\n",
    "    def read(self,name,branch):\n",
    "        self.name = name\n",
    "        self.branch = branch\n",
    "        print(name)\n",
    "        print(branch)\n",
    "        print(self.roll)\n",
    "        \n",
    "S =Student()\n",
    "S.read('Akash','CSE')"
   ]
  },
  {
   "cell_type": "code",
   "execution_count": 15,
   "metadata": {},
   "outputs": [
    {
     "name": "stdout",
     "output_type": "stream",
     "text": [
      "Akash\n",
      "CSE\n",
      "10\n"
     ]
    }
   ],
   "source": [
    "class Student:\n",
    "    roll = 1\n",
    "    def read(self,name,branch):\n",
    "        roll = 10\n",
    "        self.name = name\n",
    "        self.branch = branch\n",
    "        print(name)\n",
    "        print(branch)\n",
    "        print(roll)\n",
    "        \n",
    "S =Student()\n",
    "S.read('Akash','CSE')"
   ]
  },
  {
   "cell_type": "code",
   "execution_count": 16,
   "metadata": {},
   "outputs": [
    {
     "name": "stdout",
     "output_type": "stream",
     "text": [
      "Akash\n",
      "CSE\n",
      "10\n",
      "1\n"
     ]
    }
   ],
   "source": [
    "class Student:\n",
    "    roll = 1\n",
    "    def read(self,name,branch):\n",
    "        roll = 10\n",
    "        self.name = name\n",
    "        self.branch = branch\n",
    "        print(name)\n",
    "        print(branch)\n",
    "        print(roll)\n",
    "        print(self.roll)\n",
    "        \n",
    "S =Student()\n",
    "S.read('Akash','CSE')"
   ]
  },
  {
   "cell_type": "markdown",
   "metadata": {},
   "source": [
    "# Constructor"
   ]
  },
  {
   "cell_type": "code",
   "execution_count": 17,
   "metadata": {},
   "outputs": [
    {
     "name": "stdout",
     "output_type": "stream",
     "text": [
      "1 Urmit CSE\n"
     ]
    }
   ],
   "source": [
    "class Student:\n",
    "    def __init__(self,roll,name,branch):\n",
    "        self.roll = roll\n",
    "        self.name = name\n",
    "        self.branch = branch\n",
    "        \n",
    "    def display(self):\n",
    "        print(self.roll,self.name,self.branch)\n",
    "        \n",
    "S = Student(1,'Urmit','CSE')\n",
    "S.display()"
   ]
  },
  {
   "cell_type": "code",
   "execution_count": null,
   "metadata": {},
   "outputs": [],
   "source": []
  },
  {
   "cell_type": "code",
   "execution_count": null,
   "metadata": {},
   "outputs": [],
   "source": []
  }
 ],
 "metadata": {
  "kernelspec": {
   "display_name": "Python 3",
   "language": "python",
   "name": "python3"
  },
  "language_info": {
   "codemirror_mode": {
    "name": "ipython",
    "version": 3
   },
   "file_extension": ".py",
   "mimetype": "text/x-python",
   "name": "python",
   "nbconvert_exporter": "python",
   "pygments_lexer": "ipython3",
   "version": "3.9.1"
  }
 },
 "nbformat": 4,
 "nbformat_minor": 4
}
