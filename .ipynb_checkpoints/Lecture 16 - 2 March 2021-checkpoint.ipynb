{
 "cells": [
  {
   "cell_type": "code",
   "execution_count": 1,
   "metadata": {},
   "outputs": [],
   "source": [
    "from tkinter import *"
   ]
  },
  {
   "cell_type": "code",
   "execution_count": 3,
   "metadata": {},
   "outputs": [],
   "source": [
    "window = Tk()\n",
    "window.title('Button Widget')\n",
    "window.geometry('400x350')\n",
    "window.iconbitmap(r'C:\\Users\\ARVIND\\Desktop\\Desk\\Bevy\\av.ico')\n",
    "\n",
    "my_button = Button(window,text='Click Me')\n",
    "my_button.pack()\n",
    "\n",
    "window.mainloop()"
   ]
  },
  {
   "cell_type": "code",
   "execution_count": 5,
   "metadata": {},
   "outputs": [],
   "source": [
    "window = Tk()\n",
    "window.title('Button Widget')\n",
    "window.geometry('400x350')\n",
    "window.iconbitmap(r'C:\\Users\\ARVIND\\Desktop\\Desk\\Bevy\\av.ico')\n",
    "\n",
    "my_button = Button(window,text='Click Me',bg='black',fg='white')\n",
    "my_button.pack()\n",
    "\n",
    "window.mainloop()"
   ]
  },
  {
   "cell_type": "code",
   "execution_count": 7,
   "metadata": {},
   "outputs": [],
   "source": [
    "window = Tk()\n",
    "window.title('Button Widget')\n",
    "window.geometry('400x350')\n",
    "window.iconbitmap(r'C:\\Users\\ARVIND\\Desktop\\Desk\\Bevy\\av.ico')\n",
    "\n",
    "my_label = Label(window,text='I am label').pack()\n",
    "\n",
    "my_button = Button(window,text='Click Me',bg='black',fg='white')\n",
    "my_button.pack(pady=10)\n",
    "\n",
    "window.mainloop()"
   ]
  },
  {
   "cell_type": "markdown",
   "metadata": {},
   "source": [
    "# Entry widget"
   ]
  },
  {
   "cell_type": "code",
   "execution_count": 8,
   "metadata": {},
   "outputs": [],
   "source": [
    "window = Tk()\n",
    "window.title('Entry Widget')\n",
    "window.geometry('400x350')\n",
    "window.iconbitmap(r'C:\\Users\\ARVIND\\Desktop\\Desk\\Bevy\\av.ico')\n",
    "\n",
    "my_entry = Entry(window).pack()\n",
    "\n",
    "\n",
    "window.mainloop()"
   ]
  },
  {
   "cell_type": "code",
   "execution_count": 9,
   "metadata": {},
   "outputs": [],
   "source": [
    "window = Tk()\n",
    "window.title('Entry Widget')\n",
    "window.geometry('400x350')\n",
    "window.iconbitmap(r'C:\\Users\\ARVIND\\Desktop\\Desk\\Bevy\\av.ico')\n",
    "\n",
    "my_entry = Entry(window,width=50).pack()\n",
    "\n",
    "\n",
    "window.mainloop()"
   ]
  },
  {
   "cell_type": "code",
   "execution_count": 11,
   "metadata": {},
   "outputs": [],
   "source": [
    "window = Tk()\n",
    "window.title('Entry Widget')\n",
    "window.geometry('400x350')\n",
    "window.iconbitmap(r'C:\\Users\\ARVIND\\Desktop\\Desk\\Bevy\\av.ico')\n",
    "\n",
    "my_label = Label(window,text='Username: ').grid(row=0,column=0)\n",
    "my_entry = Entry(window).grid(row=0,column=1)\n",
    "\n",
    "\n",
    "window.mainloop()"
   ]
  },
  {
   "cell_type": "code",
   "execution_count": 12,
   "metadata": {},
   "outputs": [],
   "source": [
    "window = Tk()\n",
    "window.title('Check Button Widget')\n",
    "window.geometry('400x350')\n",
    "window.iconbitmap(r'C:\\Users\\ARVIND\\Desktop\\Desk\\Bevy\\av.ico')\n",
    "\n",
    "check_button = BooleanVar()\n",
    "check_button.set(True)\n",
    "chk = Checkbutton(window,text='Select',variable=check_button)\n",
    "chk.pack()\n",
    "\n",
    "window.mainloop()"
   ]
  },
  {
   "cell_type": "code",
   "execution_count": 13,
   "metadata": {},
   "outputs": [],
   "source": [
    "window = Tk()\n",
    "window.title('Check Button Widget')\n",
    "window.geometry('400x350')\n",
    "window.iconbitmap(r'C:\\Users\\ARVIND\\Desktop\\Desk\\Bevy\\av.ico')\n",
    "\n",
    "check_button = BooleanVar()\n",
    "check_button.set(False)\n",
    "chk = Checkbutton(window,text='Select',variable=check_button)\n",
    "chk.pack()\n",
    "\n",
    "window.mainloop()"
   ]
  },
  {
   "cell_type": "markdown",
   "metadata": {},
   "source": [
    "# Combo Box"
   ]
  },
  {
   "cell_type": "code",
   "execution_count": 1,
   "metadata": {},
   "outputs": [],
   "source": [
    "from tkinter import *\n",
    "from tkinter.ttk import *"
   ]
  },
  {
   "cell_type": "code",
   "execution_count": 3,
   "metadata": {},
   "outputs": [],
   "source": [
    "window = Tk()\n",
    "window.title('Combo Box Widget')\n",
    "window.geometry('400x350')\n",
    "window.iconbitmap(r'C:\\Users\\ARVIND\\Desktop\\Desk\\Bevy\\av.ico')\n",
    "\n",
    "combo = Combobox(window,values=[1,2,3,4,5])\n",
    "combo.pack()\n",
    "\n",
    "window.mainloop()"
   ]
  },
  {
   "cell_type": "code",
   "execution_count": 5,
   "metadata": {},
   "outputs": [],
   "source": [
    "window = Tk()\n",
    "window.title('Combo Box Widget')\n",
    "window.geometry('400x350')\n",
    "window.iconbitmap(r'C:\\Users\\ARVIND\\Desktop\\Desk\\Bevy\\av.ico')\n",
    "\n",
    "combo = Combobox(window,values=[1,2,3,4,5])\n",
    "combo.pack(pady=10)\n",
    "combo.current(1)\n",
    "\n",
    "window.mainloop()"
   ]
  },
  {
   "cell_type": "code",
   "execution_count": 7,
   "metadata": {},
   "outputs": [],
   "source": [
    "window = Tk()\n",
    "window.title('Combo Box Widget')\n",
    "window.geometry('400x350')\n",
    "window.iconbitmap(r'C:\\Users\\ARVIND\\Desktop\\Desk\\Bevy\\av.ico')\n",
    "\n",
    "combo = Combobox(window,values=('a','b','c','d'))\n",
    "combo.pack(pady=10)\n",
    "combo.current(0)\n",
    "\n",
    "window.mainloop()"
   ]
  },
  {
   "cell_type": "markdown",
   "metadata": {},
   "source": [
    "# Radio Button"
   ]
  },
  {
   "cell_type": "code",
   "execution_count": 9,
   "metadata": {},
   "outputs": [],
   "source": [
    "window = Tk()\n",
    "window.title('Radio Widget')\n",
    "window.geometry('400x350')\n",
    "window.iconbitmap(r'C:\\Users\\ARVIND\\Desktop\\Desk\\Bevy\\av.ico')\n",
    "\n",
    "rad = Radiobutton(window,text='Tkinter',value=1)\n",
    "rad.pack(pady=15)\n",
    "\n",
    "window.mainloop()"
   ]
  },
  {
   "cell_type": "code",
   "execution_count": 10,
   "metadata": {},
   "outputs": [],
   "source": [
    "window = Tk()\n",
    "window.title('Radio Widget')\n",
    "window.geometry('400x350')\n",
    "window.iconbitmap(r'C:\\Users\\ARVIND\\Desktop\\Desk\\Bevy\\av.ico')\n",
    "\n",
    "rad1 = Radiobutton(window,text='Tkinter',value=1)\n",
    "rad2 = Radiobutton(window,text='Python',value=2)\n",
    "rad3 = Radiobutton(window,text='Julia',value=3)\n",
    "rad1.grid(row=0,column=1)\n",
    "rad2.grid(row=0,column=2)\n",
    "rad3.grid(row=0,column=3)\n",
    "window.mainloop()"
   ]
  },
  {
   "cell_type": "code",
   "execution_count": 11,
   "metadata": {},
   "outputs": [],
   "source": [
    "window = Tk()\n",
    "window.title('Radio Widget')\n",
    "window.geometry('400x350')\n",
    "window.iconbitmap(r'C:\\Users\\ARVIND\\Desktop\\Desk\\Bevy\\av.ico')\n",
    "\n",
    "rad1 = Radiobutton(window,text='Tkinter',value=1)\n",
    "rad2 = Radiobutton(window,text='Python',value=1)\n",
    "rad3 = Radiobutton(window,text='Julia',value=3)\n",
    "rad1.grid(row=0,column=1)\n",
    "rad2.grid(row=0,column=2)\n",
    "rad3.grid(row=0,column=3)\n",
    "window.mainloop()"
   ]
  },
  {
   "cell_type": "markdown",
   "metadata": {},
   "source": [
    "# Command"
   ]
  },
  {
   "cell_type": "code",
   "execution_count": 18,
   "metadata": {},
   "outputs": [
    {
     "name": "stdout",
     "output_type": "stream",
     "text": [
      "I am in Priansh\n",
      "I am in Priansh\n",
      "I am in Priansh\n",
      "I am in Priansh\n",
      "I am in Priansh\n",
      "I am in Priansh\n",
      "I am in Priansh\n",
      "I am in Priansh\n"
     ]
    }
   ],
   "source": [
    "window = Tk()\n",
    "window.title('Command')\n",
    "window.geometry('400x350')\n",
    "window.iconbitmap(r'C:\\Users\\ARVIND\\Desktop\\Desk\\Bevy\\av.ico')\n",
    "\n",
    "def priansh():\n",
    "    print('I am in Priansh')\n",
    "\n",
    "my_button = Button(window,text='Click Me',command=priansh)\n",
    "my_button.pack(pady=20)\n",
    "\n",
    "window.mainloop()"
   ]
  }
 ],
 "metadata": {
  "kernelspec": {
   "display_name": "Python 3",
   "language": "python",
   "name": "python3"
  },
  "language_info": {
   "codemirror_mode": {
    "name": "ipython",
    "version": 3
   },
   "file_extension": ".py",
   "mimetype": "text/x-python",
   "name": "python",
   "nbconvert_exporter": "python",
   "pygments_lexer": "ipython3",
   "version": "3.9.1"
  }
 },
 "nbformat": 4,
 "nbformat_minor": 4
}
