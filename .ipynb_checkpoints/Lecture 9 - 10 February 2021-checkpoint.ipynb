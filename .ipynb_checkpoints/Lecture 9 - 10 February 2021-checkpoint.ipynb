{
 "cells": [
  {
   "cell_type": "markdown",
   "metadata": {},
   "source": [
    "# 10. Write a Python function to find the Max of three numbers."
   ]
  },
  {
   "cell_type": "code",
   "execution_count": 2,
   "metadata": {},
   "outputs": [
    {
     "name": "stdout",
     "output_type": "stream",
     "text": [
      "Enter the first Number: 30\n",
      "Enter the second Number: 20\n",
      "Enter the third Number: 4\n",
      "The biggest number is 30\n"
     ]
    }
   ],
   "source": [
    "def maximum(a,b,c):\n",
    "    if a>b and a>c:\n",
    "        big = a\n",
    "    elif b>c and b>a:\n",
    "        big = b\n",
    "    else:\n",
    "        big = c\n",
    "    return big\n",
    "\n",
    "x = int(input('Enter the first Number: '))\n",
    "y = int(input('Enter the second Number: '))\n",
    "z = int(input('Enter the third Number: '))\n",
    "res = maximum(x,y,z)\n",
    "print('The biggest number is',res)"
   ]
  },
  {
   "cell_type": "markdown",
   "metadata": {},
   "source": [
    "# Variable length arguments"
   ]
  },
  {
   "cell_type": "code",
   "execution_count": 3,
   "metadata": {},
   "outputs": [
    {
     "ename": "TypeError",
     "evalue": "student() got an unexpected keyword argument 'branch'",
     "output_type": "error",
     "traceback": [
      "\u001b[1;31m---------------------------------------------------------------------------\u001b[0m",
      "\u001b[1;31mTypeError\u001b[0m                                 Traceback (most recent call last)",
      "\u001b[1;32m<ipython-input-3-3e6dcff180b2>\u001b[0m in \u001b[0;36m<module>\u001b[1;34m\u001b[0m\n\u001b[0;32m      3\u001b[0m     \u001b[0mprint\u001b[0m\u001b[1;33m(\u001b[0m\u001b[0mdata\u001b[0m\u001b[1;33m)\u001b[0m\u001b[1;33m\u001b[0m\u001b[1;33m\u001b[0m\u001b[0m\n\u001b[0;32m      4\u001b[0m \u001b[1;33m\u001b[0m\u001b[0m\n\u001b[1;32m----> 5\u001b[1;33m \u001b[0mstudent\u001b[0m\u001b[1;33m(\u001b[0m\u001b[1;34m'Arvind'\u001b[0m\u001b[1;33m,\u001b[0m\u001b[0mbranch\u001b[0m\u001b[1;33m=\u001b[0m\u001b[1;34m'CS'\u001b[0m\u001b[1;33m,\u001b[0m\u001b[0mroll\u001b[0m\u001b[1;33m=\u001b[0m\u001b[1;36m1\u001b[0m\u001b[1;33m,\u001b[0m\u001b[0msection\u001b[0m\u001b[1;33m=\u001b[0m\u001b[1;34m'K'\u001b[0m\u001b[1;33m)\u001b[0m\u001b[1;33m\u001b[0m\u001b[1;33m\u001b[0m\u001b[0m\n\u001b[0m",
      "\u001b[1;31mTypeError\u001b[0m: student() got an unexpected keyword argument 'branch'"
     ]
    }
   ],
   "source": [
    "def student(name,*data):\n",
    "    print(name)\n",
    "    print(data)\n",
    "    \n",
    "student('Arvind',branch='CS',roll=1,section='K')"
   ]
  },
  {
   "cell_type": "code",
   "execution_count": 4,
   "metadata": {},
   "outputs": [
    {
     "name": "stdout",
     "output_type": "stream",
     "text": [
      "Arvind\n",
      "{'branch': 'CS', 'roll': 1, 'section': 'K'}\n"
     ]
    }
   ],
   "source": [
    "def student(name,**data):\n",
    "    print(name)\n",
    "    print(data)\n",
    "    \n",
    "student('Arvind',branch='CS',roll=1,section='K')"
   ]
  },
  {
   "cell_type": "markdown",
   "metadata": {},
   "source": [
    "# 11. Write a program to find out the sum of elements of a list.\n"
   ]
  },
  {
   "cell_type": "code",
   "execution_count": 6,
   "metadata": {},
   "outputs": [
    {
     "name": "stdout",
     "output_type": "stream",
     "text": [
      "How many elements you want to enter?5\n",
      "Enter the elements:1\n",
      "Enter the elements:2\n",
      "Enter the elements:3\n",
      "Enter the elements:4\n",
      "Enter the elements:5\n"
     ]
    },
    {
     "data": {
      "text/plain": [
       "15"
      ]
     },
     "execution_count": 6,
     "metadata": {},
     "output_type": "execute_result"
    }
   ],
   "source": [
    "def sum_of_list(L):\n",
    "    s = 0\n",
    "    for i in L:\n",
    "        s = s+i\n",
    "    return s\n",
    "\n",
    "list1 = []\n",
    "n = int(input('How many elements you want to enter?'))\n",
    "for i in range(n):\n",
    "    el = int(input('Enter the elements:'))\n",
    "    list1.append(el)\n",
    "sum_of_list(list1)"
   ]
  },
  {
   "cell_type": "markdown",
   "metadata": {},
   "source": [
    "# 12. Write a Python function to create and print a list where the values are square of numbers between 1 and 20 (both included)."
   ]
  },
  {
   "cell_type": "code",
   "execution_count": 8,
   "metadata": {},
   "outputs": [
    {
     "name": "stdout",
     "output_type": "stream",
     "text": [
      "[1, 4, 9, 16, 25, 36, 49, 64, 81, 100, 121, 144, 169, 196, 225, 256, 289, 324, 361, 400]\n"
     ]
    }
   ],
   "source": [
    "L = []\n",
    "def print_value():\n",
    "    for i in range(1,21):\n",
    "        L.append(i**2)\n",
    "    print(L)\n",
    "\n",
    "print_value()"
   ]
  },
  {
   "cell_type": "markdown",
   "metadata": {},
   "source": [
    "# 13. Write a Python function that takes a list and returns a new list with even elements in the list.\n"
   ]
  },
  {
   "cell_type": "code",
   "execution_count": 9,
   "metadata": {},
   "outputs": [
    {
     "name": "stdout",
     "output_type": "stream",
     "text": [
      "How many elements you want to enter?8\n",
      "Enter the elements:1\n",
      "Enter the elements:2\n",
      "Enter the elements:3\n",
      "Enter the elements:4\n",
      "Enter the elements:5\n",
      "Enter the elements:6\n",
      "Enter the elements:7\n",
      "Enter the elements:8\n",
      "The new list: [2, 4, 6, 8]\n"
     ]
    }
   ],
   "source": [
    "l1 = []\n",
    "def even(L):\n",
    "    for i in L:\n",
    "        if i%2==0:\n",
    "            l1.append(i)\n",
    "    print('The new list:',l1)\n",
    "    \n",
    "L1 = []\n",
    "n = int(input('How many elements you want to enter?'))\n",
    "for i in range(n):\n",
    "    el = int(input('Enter the elements:'))\n",
    "    L1.append(el)\n",
    "even(L1)"
   ]
  },
  {
   "cell_type": "markdown",
   "metadata": {},
   "source": [
    "# 14. Write a function that takes a list and returns a new list with unique elements of the first list."
   ]
  },
  {
   "cell_type": "code",
   "execution_count": 10,
   "metadata": {},
   "outputs": [
    {
     "name": "stdout",
     "output_type": "stream",
     "text": [
      "How many elements you want to enter?5\n",
      "Enter the elements:1\n",
      "Enter the elements:2\n",
      "Enter the elements:3\n",
      "Enter the elements:2\n",
      "Enter the elements:3\n",
      "The new list [1, 2, 3]\n"
     ]
    }
   ],
   "source": [
    "list1 = []\n",
    "def unique(L):\n",
    "    for i in L:\n",
    "        if i not in list1:\n",
    "            list1.append(i)\n",
    "    print('The new list',list1)\n",
    "\n",
    "L1 = []\n",
    "n = int(input('How many elements you want to enter?'))\n",
    "for i in range(n):\n",
    "    el = int(input('Enter the elements:'))\n",
    "    L1.append(el)\n",
    "    \n",
    "unique(L1)\n"
   ]
  },
  {
   "cell_type": "markdown",
   "metadata": {},
   "source": [
    "# 15. Write a Python function to check whether a number is perfect or not. In number theory, a perfect number is a positive integer that is equal to the sum of its proper positive divisors, excluding the number itself. Example : The first perfect number is 6, because 1, 2, and 3 are its proper positive divisors, and 1 + 2 + 3 = 6. \n"
   ]
  },
  {
   "cell_type": "code",
   "execution_count": 16,
   "metadata": {},
   "outputs": [
    {
     "name": "stdout",
     "output_type": "stream",
     "text": [
      "Enter the number: 6\n",
      "6 is prefect number\n"
     ]
    }
   ],
   "source": [
    "def perfect(n):\n",
    "    s = 0\n",
    "    for i in range(1,n):\n",
    "        if n%i==0:\n",
    "            s = s+i\n",
    "    if s == n:\n",
    "        print(n,'is prefect number')\n",
    "    else:\n",
    "        print(n,'is not prefect number')\n",
    "        \n",
    "n = int(input('Enter the number: '))\n",
    "perfect(n)"
   ]
  },
  {
   "cell_type": "markdown",
   "metadata": {},
   "source": [
    "# Recursion:"
   ]
  },
  {
   "cell_type": "markdown",
   "metadata": {},
   "source": [
    "# 16. Write a program to find out the factorial of a given number using recursion."
   ]
  },
  {
   "cell_type": "code",
   "execution_count": 19,
   "metadata": {},
   "outputs": [
    {
     "name": "stdout",
     "output_type": "stream",
     "text": [
      "Enter the number: 1\n"
     ]
    },
    {
     "data": {
      "text/plain": [
       "1"
      ]
     },
     "execution_count": 19,
     "metadata": {},
     "output_type": "execute_result"
    }
   ],
   "source": [
    "def facto(n):\n",
    "    if n == 0:\n",
    "        return 1\n",
    "    else:\n",
    "        return n*facto(n-1)\n",
    "\n",
    "n1 = int(input('Enter the number: '))\n",
    "facto(n1)"
   ]
  },
  {
   "cell_type": "markdown",
   "metadata": {},
   "source": [
    "# 17. Write a program to find out the sum of first n natural numbers using recursion."
   ]
  },
  {
   "cell_type": "code",
   "execution_count": 22,
   "metadata": {},
   "outputs": [
    {
     "name": "stdout",
     "output_type": "stream",
     "text": [
      "Enter the number: 0\n"
     ]
    },
    {
     "data": {
      "text/plain": [
       "0"
      ]
     },
     "execution_count": 22,
     "metadata": {},
     "output_type": "execute_result"
    }
   ],
   "source": [
    "def natural(n):\n",
    "    if n == 0:\n",
    "        return 0\n",
    "    else:\n",
    "        return n+natural(n-1)\n",
    "\n",
    "n1 = int(input('Enter the number: '))\n",
    "natural(n1)"
   ]
  }
 ],
 "metadata": {
  "kernelspec": {
   "display_name": "Python 3",
   "language": "python",
   "name": "python3"
  },
  "language_info": {
   "codemirror_mode": {
    "name": "ipython",
    "version": 3
   },
   "file_extension": ".py",
   "mimetype": "text/x-python",
   "name": "python",
   "nbconvert_exporter": "python",
   "pygments_lexer": "ipython3",
   "version": "3.9.1"
  }
 },
 "nbformat": 4,
 "nbformat_minor": 4
}
