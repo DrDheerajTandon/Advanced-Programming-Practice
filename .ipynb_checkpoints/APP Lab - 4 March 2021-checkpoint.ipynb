{
 "cells": [
  {
   "cell_type": "markdown",
   "metadata": {},
   "source": [
    "# You need to design a login Form using tkinter"
   ]
  },
  {
   "cell_type": "markdown",
   "metadata": {},
   "source": [
    "# Frames"
   ]
  },
  {
   "cell_type": "code",
   "execution_count": 2,
   "metadata": {},
   "outputs": [],
   "source": [
    "from tkinter import *"
   ]
  },
  {
   "cell_type": "code",
   "execution_count": 4,
   "metadata": {},
   "outputs": [],
   "source": [
    "window = Tk()\n",
    "window.title('Frames in Tkinter')\n",
    "window.geometry('400x400')\n",
    "window.iconbitmap(r'C:\\Users\\ARVIND\\Desktop\\Desk\\Bevy\\av.ico')\n",
    "\n",
    "frame = Frame(window)\n",
    "frame.pack()\n",
    "\n",
    "label = Label(frame,text='I am in Frame').pack()\n",
    "\n",
    "window.mainloop()"
   ]
  },
  {
   "cell_type": "code",
   "execution_count": 6,
   "metadata": {},
   "outputs": [],
   "source": [
    "window = Tk()\n",
    "window.title('Frames in Tkinter')\n",
    "window.geometry('400x400')\n",
    "window.iconbitmap(r'C:\\Users\\ARVIND\\Desktop\\Desk\\Bevy\\av.ico')\n",
    "\n",
    "topframe = Frame(window)\n",
    "topframe.pack()\n",
    "\n",
    "bottomframe = Frame(window)\n",
    "bottomframe.pack(side=BOTTOM)\n",
    "\n",
    "\n",
    "label1 = Label(topframe,text='I am in Top Frame').pack()\n",
    "label2 = Label(bottomframe,text='I am in Bottom Frame').pack()\n",
    "\n",
    "window.mainloop()"
   ]
  },
  {
   "cell_type": "code",
   "execution_count": 7,
   "metadata": {},
   "outputs": [],
   "source": [
    "window = Tk()\n",
    "window.title('Frames in Tkinter')\n",
    "window.geometry('400x400')\n",
    "window.iconbitmap(r'C:\\Users\\ARVIND\\Desktop\\Desk\\Bevy\\av.ico')\n",
    "\n",
    "topframe = Frame(window)\n",
    "topframe.pack()\n",
    "\n",
    "bottomframe = Frame(window)\n",
    "bottomframe.pack(side=BOTTOM)\n",
    "\n",
    "leftframe = Frame(window)\n",
    "leftframe.pack(side=LEFT)\n",
    "\n",
    "rightframe = Frame(window)\n",
    "rightframe.pack(side=RIGHT)\n",
    "\n",
    "label1 = Label(topframe,text='I am in Top Frame').pack()\n",
    "label2 = Label(bottomframe,text='I am in Bottom Frame').pack()\n",
    "label3 = Label(leftframe,text='I am in Left Frame').pack()\n",
    "label4 = Label(rightframe,text='I am in right Frame').pack()\n",
    "window.mainloop()"
   ]
  },
  {
   "cell_type": "markdown",
   "metadata": {},
   "source": [
    "# Fill parameter"
   ]
  },
  {
   "cell_type": "code",
   "execution_count": 9,
   "metadata": {},
   "outputs": [],
   "source": [
    "window = Tk()\n",
    "window.title('Fill Parameter')\n",
    "window.geometry('400x400')\n",
    "window.iconbitmap(r'C:\\Users\\ARVIND\\Desktop\\Desk\\Bevy\\av.ico')\n",
    "\n",
    "label1 = Label(window,text='Automatic width',bg='green',fg='white').pack()\n",
    "\n",
    "\n",
    "window.mainloop()"
   ]
  },
  {
   "cell_type": "code",
   "execution_count": 11,
   "metadata": {},
   "outputs": [],
   "source": [
    "window = Tk()\n",
    "window.title('Fill Parameter')\n",
    "window.geometry('400x400')\n",
    "window.iconbitmap(r'C:\\Users\\ARVIND\\Desktop\\Desk\\Bevy\\av.ico')\n",
    "\n",
    "label1 = Label(window,text='Automatic width',bg='green',fg='white').pack(fill='x')\n",
    "\n",
    "\n",
    "window.mainloop()"
   ]
  },
  {
   "cell_type": "code",
   "execution_count": 3,
   "metadata": {},
   "outputs": [],
   "source": [
    "window = Tk()\n",
    "window.title('Fill Parameter')\n",
    "window.geometry('400x400')\n",
    "window.iconbitmap(r'C:\\Users\\ARVIND\\Desktop\\Desk\\Bevy\\av.ico')\n",
    "\n",
    "label1 = Label(window,text='Automatic width',bg='green',fg='white').pack(side=LEFT,fill=Y)\n",
    "\n",
    "\n",
    "window.mainloop()"
   ]
  },
  {
   "cell_type": "code",
   "execution_count": 4,
   "metadata": {},
   "outputs": [],
   "source": [
    "window = Tk()\n",
    "window.title('Fill Parameter')\n",
    "window.geometry('400x400')\n",
    "window.iconbitmap(r'C:\\Users\\ARVIND\\Desktop\\Desk\\Bevy\\av.ico')\n",
    "\n",
    "label1 = Label(window,text='Automatic width',bg='green',fg='white').pack()\n",
    "label2 = Label(window,text='FULL WIDTH',bg='green',fg='white').pack(fill=X)\n",
    "label3 = Label(window,text='Y Direction',bg='purple',fg='white').pack(side='left',fill='y')\n",
    "\n",
    "\n",
    "window.mainloop()"
   ]
  },
  {
   "cell_type": "markdown",
   "metadata": {},
   "source": [
    "# Tabs or Notebook"
   ]
  },
  {
   "cell_type": "code",
   "execution_count": 1,
   "metadata": {},
   "outputs": [],
   "source": [
    "from tkinter import *\n",
    "from tkinter import ttk"
   ]
  },
  {
   "cell_type": "code",
   "execution_count": 4,
   "metadata": {},
   "outputs": [],
   "source": [
    "window = Tk()\n",
    "window.title('Tabs or Notebook')\n",
    "window.geometry('400x400')\n",
    "window.iconbitmap(r'C:\\Users\\ARVIND\\Desktop\\Desk\\Bevy\\av.ico')\n",
    "\n",
    "my_notebook = ttk.Notebook(window)\n",
    "my_notebook.pack()\n",
    "\n",
    "frame1 = Frame(my_notebook,width=500,height=500,bg='red')\n",
    "frame1.pack(fill=BOTH,expand=True)\n",
    "\n",
    "frame2 = Frame(my_notebook,width=500,height=500,bg='blue')\n",
    "frame2.pack(fill=BOTH,expand=True)\n",
    "\n",
    "my_notebook.add(frame1,text='First Tab')\n",
    "my_notebook.add(frame2,text='Second Tab')\n",
    "\n",
    "window.mainloop()"
   ]
  },
  {
   "cell_type": "code",
   "execution_count": 6,
   "metadata": {},
   "outputs": [],
   "source": [
    "window = Tk()\n",
    "window.title('Tabs or Notebook')\n",
    "window.geometry('400x400')\n",
    "window.iconbitmap(r'C:\\Users\\ARVIND\\Desktop\\Desk\\Bevy\\av.ico')\n",
    "\n",
    "def hide():\n",
    "    my_notebook.hide(1)\n",
    "\n",
    "my_notebook = ttk.Notebook(window)\n",
    "my_notebook.pack()\n",
    "\n",
    "frame1 = Frame(my_notebook,width=500,height=500,bg='red')\n",
    "frame1.pack(fill=BOTH,expand=True)\n",
    "\n",
    "frame2 = Frame(my_notebook,width=500,height=500,bg='blue')\n",
    "frame2.pack(fill=BOTH,expand=True)\n",
    "\n",
    "my_notebook.add(frame1,text='First Tab')\n",
    "my_notebook.add(frame2,text='Second Tab')\n",
    "\n",
    "btn = Button(frame1,text='Hide tab 2',command=hide).pack(pady=20)\n",
    "\n",
    "window.mainloop()"
   ]
  },
  {
   "cell_type": "code",
   "execution_count": 9,
   "metadata": {},
   "outputs": [],
   "source": [
    "window = Tk()\n",
    "window.title('Tabs or Notebook')\n",
    "window.geometry('400x400')\n",
    "window.iconbitmap(r'C:\\Users\\ARVIND\\Desktop\\Desk\\Bevy\\av.ico')\n",
    "\n",
    "def hide():\n",
    "    my_notebook.hide(1)\n",
    "    \n",
    "def show():\n",
    "    my_notebook.add(frame2,text='Second Tab')\n",
    "    \n",
    "\n",
    "my_notebook = ttk.Notebook(window)\n",
    "my_notebook.pack()\n",
    "\n",
    "frame1 = Frame(my_notebook,width=500,height=500,bg='red')\n",
    "frame1.pack(fill=BOTH,expand=1)\n",
    "\n",
    "frame2 = Frame(my_notebook,width=500,height=500,bg='blue')\n",
    "frame2.pack(fill=BOTH,expand=True)\n",
    "\n",
    "my_notebook.add(frame1,text='First Tab')\n",
    "my_notebook.add(frame2,text='Second Tab')\n",
    "\n",
    "btn = Button(frame1,text='Hide tab 2',command=hide).pack(pady=20)\n",
    "\n",
    "btn2 = Button(frame1,text='Show tab 2',command=show).pack(pady=20)\n",
    "\n",
    "window.mainloop()    "
   ]
  },
  {
   "cell_type": "code",
   "execution_count": null,
   "metadata": {},
   "outputs": [],
   "source": []
  },
  {
   "cell_type": "code",
   "execution_count": null,
   "metadata": {},
   "outputs": [],
   "source": []
  }
 ],
 "metadata": {
  "kernelspec": {
   "display_name": "Python 3",
   "language": "python",
   "name": "python3"
  },
  "language_info": {
   "codemirror_mode": {
    "name": "ipython",
    "version": 3
   },
   "file_extension": ".py",
   "mimetype": "text/x-python",
   "name": "python",
   "nbconvert_exporter": "python",
   "pygments_lexer": "ipython3",
   "version": "3.9.1"
  }
 },
 "nbformat": 4,
 "nbformat_minor": 4
}
