{
 "cells": [
  {
   "cell_type": "code",
   "execution_count": 1,
   "metadata": {},
   "outputs": [],
   "source": [
    "from tkinter import *\n",
    "from PIL import Image, ImageTk"
   ]
  },
  {
   "cell_type": "code",
   "execution_count": 4,
   "metadata": {},
   "outputs": [],
   "source": [
    "window =Tk()\n",
    "window.title('Use of Images')\n",
    "window.geometry('400x350')\n",
    "window.iconbitmap(r'C:\\Users\\ARVIND\\Desktop\\Desk\\Bevy\\av.ico')\n",
    "\n",
    "image = Image.open(r'C:\\Users\\ARVIND\\Desktop\\Desk\\Bevy\\me.jpg')\n",
    "photo = ImageTk.PhotoImage(image)\n",
    "\n",
    "label1 = Label(window,image=photo)\n",
    "label1.pack()\n",
    "\n",
    "window.mainloop()"
   ]
  },
  {
   "cell_type": "markdown",
   "metadata": {},
   "source": [
    "# Resize"
   ]
  },
  {
   "cell_type": "code",
   "execution_count": 6,
   "metadata": {},
   "outputs": [],
   "source": [
    "window =Tk()\n",
    "window.title('Use of Images')\n",
    "window.geometry('400x350')\n",
    "window.iconbitmap(r'C:\\Users\\ARVIND\\Desktop\\Desk\\Bevy\\av.ico')\n",
    "\n",
    "image = Image.open(r'C:\\Users\\ARVIND\\Desktop\\Desk\\Bevy\\me.jpg')\n",
    "resize_img = image.resize((100,100),Image.ANTIALIAS)\n",
    "photo = ImageTk.PhotoImage(resize_img)\n",
    "\n",
    "label1 = Label(window,image=photo)\n",
    "label1.pack()\n",
    "\n",
    "window.mainloop()"
   ]
  },
  {
   "cell_type": "code",
   "execution_count": 5,
   "metadata": {},
   "outputs": [],
   "source": [
    "window =Tk()\n",
    "window.title('Use of Images')\n",
    "window.geometry('400x350')\n",
    "window.iconbitmap(r'C:\\Users\\ARVIND\\Desktop\\Desk\\Bevy\\av.ico')\n",
    "\n",
    "image_btn = PhotoImage(file=r'C:\\Users\\ARVIND\\Desktop\\Desk\\Bevy\\button.png')\n",
    "#label1 = Label(window,image=image_btn)\n",
    "#label1.pack()\n",
    "\n",
    "def clicker():\n",
    "    label1 = Label(window,text='You have clicked this button')\n",
    "    label1.pack()\n",
    "\n",
    "btn = Button(window,text='Click Me',command=clicker,image=image_btn,borderwidth=0)\n",
    "btn.pack(pady=20)\n",
    "\n",
    "\n",
    "window.mainloop()"
   ]
  },
  {
   "cell_type": "markdown",
   "metadata": {},
   "source": [
    "# List Box"
   ]
  },
  {
   "cell_type": "code",
   "execution_count": 6,
   "metadata": {},
   "outputs": [],
   "source": [
    "window =Tk()\n",
    "window.title('List Box')\n",
    "window.geometry('400x350')\n",
    "window.iconbitmap(r'C:\\Users\\ARVIND\\Desktop\\Desk\\Bevy\\av.ico')\n",
    "\n",
    "listbox = Listbox(window)\n",
    "listbox.pack(pady=20)\n",
    "\n",
    "window.mainloop()"
   ]
  },
  {
   "cell_type": "markdown",
   "metadata": {},
   "source": [
    "# add items to listbox"
   ]
  },
  {
   "cell_type": "code",
   "execution_count": 12,
   "metadata": {},
   "outputs": [],
   "source": [
    "window =Tk()\n",
    "window.title('List Box')\n",
    "window.geometry('400x350')\n",
    "window.iconbitmap(r'C:\\Users\\ARVIND\\Desktop\\Desk\\Bevy\\av.ico')\n",
    "\n",
    "listbox = Listbox(window)\n",
    "listbox.pack(pady=20)\n",
    "\n",
    "listbox.insert(END,'Apple')\n",
    "listbox.insert(END,'Grapes')\n",
    "listbox.insert(END,'Mango')\n",
    "listbox.insert(0,'Banana')\n",
    "listbox.insert('end','Fruits')\n",
    "\n",
    "window.mainloop()"
   ]
  },
  {
   "cell_type": "code",
   "execution_count": null,
   "metadata": {},
   "outputs": [],
   "source": []
  },
  {
   "cell_type": "code",
   "execution_count": 13,
   "metadata": {},
   "outputs": [],
   "source": [
    "window =Tk()\n",
    "window.title('List Box')\n",
    "window.geometry('400x350')\n",
    "window.iconbitmap(r'C:\\Users\\ARVIND\\Desktop\\Desk\\Bevy\\av.ico')\n",
    "\n",
    "listbox = Listbox(window)\n",
    "listbox.pack(pady=20)\n",
    "\n",
    "listbox.insert(END,'Apple')\n",
    "listbox.insert(END,'Grapes')\n",
    "listbox.insert(END,'Mango')\n",
    "listbox.insert(0,'Banana')\n",
    "listbox.insert('end','Fruits')\n",
    "\n",
    "mylist = ['one','two','three']\n",
    "for i in mylist:\n",
    "    listbox.insert(END,i)\n",
    "\n",
    "window.mainloop()"
   ]
  },
  {
   "cell_type": "code",
   "execution_count": null,
   "metadata": {},
   "outputs": [],
   "source": []
  },
  {
   "cell_type": "code",
   "execution_count": 18,
   "metadata": {},
   "outputs": [],
   "source": [
    "window =Tk()\n",
    "window.title('List Box')\n",
    "window.geometry('400x350')\n",
    "window.iconbitmap(r'C:\\Users\\ARVIND\\Desktop\\Desk\\Bevy\\av.ico')\n",
    "\n",
    "listbox = Listbox(window)\n",
    "listbox.pack(pady=20)\n",
    "\n",
    "listbox.insert(END,'Apple')\n",
    "listbox.insert(END,'Grapes')\n",
    "listbox.insert(END,'Mango')\n",
    "listbox.insert(0,'Banana')\n",
    "listbox.insert('end','Fruits')\n",
    "\n",
    "mylist = ['one','two','three']\n",
    "for i in mylist:\n",
    "    listbox.insert(END,i)\n",
    "    \n",
    "\n",
    "def delete_item():\n",
    "    listbox.delete(ANCHOR)\n",
    "    \n",
    "    \n",
    "btn1 = Button(window,text='DELETE',command=delete_item)\n",
    "btn1.pack(pady=20)\n",
    "\n",
    "window.mainloop()"
   ]
  },
  {
   "cell_type": "code",
   "execution_count": 23,
   "metadata": {},
   "outputs": [],
   "source": [
    "window =Tk()\n",
    "window.title('List Box')\n",
    "window.geometry('400x450')\n",
    "window.iconbitmap(r'C:\\Users\\ARVIND\\Desktop\\Desk\\Bevy\\av.ico')\n",
    "\n",
    "listbox = Listbox(window)\n",
    "listbox.pack(pady=20)\n",
    "\n",
    "listbox.insert(END,'Apple')\n",
    "listbox.insert(END,'Grapes')\n",
    "listbox.insert(END,'Mango')\n",
    "listbox.insert(0,'Banana')\n",
    "listbox.insert('end','Fruits')\n",
    "\n",
    "mylist = ['one','two','three']\n",
    "for i in mylist:\n",
    "    listbox.insert(END,i)\n",
    "    \n",
    "\n",
    "def delete_item():\n",
    "    listbox.delete(ANCHOR)\n",
    "    \n",
    "def select_item():\n",
    "    label1.config(text=listbox.get(ANCHOR))\n",
    "    \n",
    "    \n",
    "btn1 = Button(window,text='DELETE',command=delete_item)\n",
    "btn1.pack(pady=20)\n",
    "\n",
    "btn2 = Button(window,text='SELECT',command=select_item)\n",
    "btn2.pack(pady=20)\n",
    "\n",
    "global label1\n",
    "label1 = Label(window,text='')\n",
    "label1.pack()\n",
    "\n",
    "window.mainloop()"
   ]
  }
 ],
 "metadata": {
  "kernelspec": {
   "display_name": "Python 3",
   "language": "python",
   "name": "python3"
  },
  "language_info": {
   "codemirror_mode": {
    "name": "ipython",
    "version": 3
   },
   "file_extension": ".py",
   "mimetype": "text/x-python",
   "name": "python",
   "nbconvert_exporter": "python",
   "pygments_lexer": "ipython3",
   "version": "3.9.1"
  }
 },
 "nbformat": 4,
 "nbformat_minor": 4
}
