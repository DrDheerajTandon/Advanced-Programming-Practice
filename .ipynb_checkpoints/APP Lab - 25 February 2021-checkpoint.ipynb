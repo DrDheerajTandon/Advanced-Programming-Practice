{
 "cells": [
  {
   "cell_type": "code",
   "execution_count": 1,
   "metadata": {},
   "outputs": [],
   "source": [
    "from tkinter import *"
   ]
  },
  {
   "cell_type": "code",
   "execution_count": 6,
   "metadata": {},
   "outputs": [],
   "source": [
    "window =  Tk()\n",
    "window.mainloop()"
   ]
  },
  {
   "cell_type": "markdown",
   "metadata": {},
   "source": [
    "# title"
   ]
  },
  {
   "cell_type": "code",
   "execution_count": 8,
   "metadata": {},
   "outputs": [],
   "source": [
    "window =  Tk()\n",
    "window.title('First window using tkinter')\n",
    "window.mainloop()"
   ]
  },
  {
   "cell_type": "markdown",
   "metadata": {},
   "source": [
    "# geometry function"
   ]
  },
  {
   "cell_type": "code",
   "execution_count": 9,
   "metadata": {},
   "outputs": [],
   "source": [
    "window =  Tk()\n",
    "window.title('First window using tkinter')\n",
    "window.geometry('400x300')\n",
    "window.mainloop()"
   ]
  },
  {
   "cell_type": "markdown",
   "metadata": {},
   "source": [
    "# minsize()"
   ]
  },
  {
   "cell_type": "code",
   "execution_count": 11,
   "metadata": {},
   "outputs": [],
   "source": [
    "window =  Tk()\n",
    "window.title('First window using tkinter')\n",
    "window.geometry('400x300')\n",
    "window.minsize(200,200)\n",
    "window.mainloop()"
   ]
  },
  {
   "cell_type": "markdown",
   "metadata": {},
   "source": [
    "# maxsize()"
   ]
  },
  {
   "cell_type": "code",
   "execution_count": 13,
   "metadata": {},
   "outputs": [],
   "source": [
    "window =  Tk()\n",
    "window.title('First window using tkinter')\n",
    "window.geometry('400x300')\n",
    "window.minsize(200,200)\n",
    "window.maxsize(600,600)\n",
    "window.mainloop()"
   ]
  },
  {
   "cell_type": "markdown",
   "metadata": {},
   "source": [
    "# favicon"
   ]
  },
  {
   "cell_type": "code",
   "execution_count": 15,
   "metadata": {},
   "outputs": [],
   "source": [
    "window =  Tk()\n",
    "window.title('Favicon')\n",
    "window.geometry('400x300')\n",
    "window.minsize(200,200)\n",
    "window.maxsize(600,400)\n",
    "window.iconbitmap(r'C:\\Users\\ARVIND\\Desktop\\Desk\\Bevy\\av.ico')\n",
    "window.mainloop()"
   ]
  },
  {
   "cell_type": "markdown",
   "metadata": {},
   "source": [
    "# Label using pack"
   ]
  },
  {
   "cell_type": "code",
   "execution_count": 16,
   "metadata": {},
   "outputs": [],
   "source": [
    "window =  Tk()\n",
    "window.title('Label using Tkinter')\n",
    "window.geometry('400x300')\n",
    "window.minsize(200,200)\n",
    "window.maxsize(600,400)\n",
    "window.iconbitmap(r'C:\\Users\\ARVIND\\Desktop\\Desk\\Bevy\\av.ico')\n",
    "label1 = Label(window,text='We are creating GUI using Tkinter')\n",
    "label1.pack()\n",
    "window.mainloop()"
   ]
  },
  {
   "cell_type": "code",
   "execution_count": 18,
   "metadata": {},
   "outputs": [],
   "source": [
    "window =  Tk()\n",
    "window.title('Label using Tkinter')\n",
    "window.geometry('400x300')\n",
    "window.minsize(200,200)\n",
    "window.maxsize(600,400)\n",
    "window.iconbitmap(r'C:\\Users\\ARVIND\\Desktop\\Desk\\Bevy\\av.ico')\n",
    "label1 = Label(window,text='We are creating GUI using Tkinter').pack()\n",
    "window.mainloop()"
   ]
  },
  {
   "cell_type": "markdown",
   "metadata": {},
   "source": [
    "# Label using grid"
   ]
  },
  {
   "cell_type": "code",
   "execution_count": 19,
   "metadata": {},
   "outputs": [],
   "source": [
    "window =  Tk()\n",
    "window.title('Label using Tkinter')\n",
    "window.geometry('400x300')\n",
    "window.minsize(200,200)\n",
    "window.maxsize(600,400)\n",
    "window.iconbitmap(r'C:\\Users\\ARVIND\\Desktop\\Desk\\Bevy\\av.ico')\n",
    "label1 = Label(window,text='We are creating GUI using Tkinter')\n",
    "label1.grid(row=0,column=0)\n",
    "window.mainloop()"
   ]
  },
  {
   "cell_type": "code",
   "execution_count": 20,
   "metadata": {},
   "outputs": [],
   "source": [
    "window =  Tk()\n",
    "window.title('Label using Tkinter')\n",
    "window.geometry('400x300')\n",
    "window.minsize(200,200)\n",
    "window.maxsize(600,400)\n",
    "window.iconbitmap(r'C:\\Users\\ARVIND\\Desktop\\Desk\\Bevy\\av.ico')\n",
    "label1 = Label(window,text='We are creating GUI using Tkinter').grid(row=0,column=0)\n",
    "window.mainloop()"
   ]
  },
  {
   "cell_type": "markdown",
   "metadata": {},
   "source": [
    "# fg & bg"
   ]
  },
  {
   "cell_type": "code",
   "execution_count": 28,
   "metadata": {},
   "outputs": [],
   "source": [
    "window =  Tk()\n",
    "window.title('Label using Tkinter')\n",
    "window.geometry('400x300')\n",
    "window.minsize(200,200)\n",
    "window.maxsize(600,400)\n",
    "window.iconbitmap(r'C:\\Users\\ARVIND\\Desktop\\Desk\\Bevy\\av.ico')\n",
    "label1 = Label(window,text='We are creating GUI using Tkinter',bg='red',fg='white',padx=20,pady=20,borderwidth=5,relief=SUNKEN).grid(row=0,column=0)\n",
    "window.mainloop()"
   ]
  },
  {
   "cell_type": "code",
   "execution_count": 31,
   "metadata": {},
   "outputs": [],
   "source": [
    "window =  Tk()\n",
    "window.title('Label using Tkinter')\n",
    "window.geometry('400x300')\n",
    "window.minsize(200,200)\n",
    "window.maxsize(600,400)\n",
    "window.iconbitmap(r'C:\\Users\\ARVIND\\Desktop\\Desk\\Bevy\\av.ico')\n",
    "label1 = Label(window,text='We are creating GUI using Tkinter',bg='red',fg='white',padx=20,pady=20,borderwidth=10,relief=SUNKEN).pack()\n",
    "window.mainloop()"
   ]
  },
  {
   "cell_type": "code",
   "execution_count": 32,
   "metadata": {},
   "outputs": [],
   "source": [
    "window =  Tk()\n",
    "window.title('Label using Tkinter')\n",
    "window.geometry('400x300')\n",
    "window.minsize(200,200)\n",
    "window.maxsize(600,400)\n",
    "window.iconbitmap(r'C:\\Users\\ARVIND\\Desktop\\Desk\\Bevy\\av.ico')\n",
    "label1 = Label(window,text='We are creating GUI using Tkinter',bg='red',fg='white',padx=20,pady=20,borderwidth=10,relief=RAISED).pack()\n",
    "window.mainloop()"
   ]
  },
  {
   "cell_type": "code",
   "execution_count": 33,
   "metadata": {},
   "outputs": [],
   "source": [
    "window =  Tk()\n",
    "window.title('Label using Tkinter')\n",
    "window.geometry('400x300')\n",
    "window.minsize(200,200)\n",
    "window.maxsize(600,400)\n",
    "window.iconbitmap(r'C:\\Users\\ARVIND\\Desktop\\Desk\\Bevy\\av.ico')\n",
    "label1 = Label(window,text='We are creating GUI using Tkinter',bg='red',fg='white',padx=20,pady=20,borderwidth=10,relief=GROOVE).pack()\n",
    "window.mainloop()"
   ]
  },
  {
   "cell_type": "code",
   "execution_count": 34,
   "metadata": {},
   "outputs": [],
   "source": [
    "window =  Tk()\n",
    "window.title('Label using Tkinter')\n",
    "window.geometry('400x300')\n",
    "window.minsize(200,200)\n",
    "window.maxsize(600,400)\n",
    "window.iconbitmap(r'C:\\Users\\ARVIND\\Desktop\\Desk\\Bevy\\av.ico')\n",
    "label1 = Label(window,text='We are creating GUI using Tkinter',bg='red',fg='white',padx=20,pady=20,borderwidth=10,relief=RIDGE).pack()\n",
    "window.mainloop()"
   ]
  },
  {
   "cell_type": "code",
   "execution_count": 46,
   "metadata": {},
   "outputs": [],
   "source": [
    "window =  Tk()\n",
    "window.title('Label using Tkinter')\n",
    "window.geometry('400x300')\n",
    "window.minsize(200,200)\n",
    "window.maxsize(600,400)\n",
    "window.iconbitmap(r'C:\\Users\\ARVIND\\Desktop\\Desk\\Bevy\\av.ico')\n",
    "label1 = Label(window,text='Name:').grid(row=0,column=0)\n",
    "label2 = Label(window,text='Amit').grid(row=0,column=1)\n",
    "label3 = Label(window,text='Branch:').grid(row=1,column=0)\n",
    "label4 = Label(window,text='Computer').grid(row=1,column=1)\n",
    "label5 = Label(window,text='College').grid(row=2,column=0)\n",
    "label6 = Label(window,text='SRMIST').grid(row=2,column=1)\n",
    "window.mainloop()"
   ]
  },
  {
   "cell_type": "code",
   "execution_count": 48,
   "metadata": {},
   "outputs": [],
   "source": [
    "window =  Tk()\n",
    "window.title('Label using Tkinter')\n",
    "window.geometry('400x300')\n",
    "window.minsize(200,200)\n",
    "window.maxsize(600,400)\n",
    "window.iconbitmap(r'C:\\Users\\ARVIND\\Desktop\\Desk\\Bevy\\av.ico')\n",
    "label1 = Label(window,text='Name:',font=('Arial',20,'bold')).grid(row=0,column=0)\n",
    "window.mainloop()"
   ]
  },
  {
   "cell_type": "code",
   "execution_count": 50,
   "metadata": {},
   "outputs": [],
   "source": [
    "window =  Tk()\n",
    "window.title('Label using Tkinter')\n",
    "window.geometry('400x300')\n",
    "window.minsize(200,200)\n",
    "window.maxsize(600,400)\n",
    "window.iconbitmap(r'C:\\Users\\ARVIND\\Desktop\\Desk\\Bevy\\av.ico')\n",
    "label1 = Label(window,text='Name:',font='Arial 25 bold').pack()\n",
    "window.mainloop()"
   ]
  },
  {
   "cell_type": "code",
   "execution_count": 51,
   "metadata": {},
   "outputs": [],
   "source": [
    "window =  Tk()\n",
    "window.title('Label using Tkinter')\n",
    "window.geometry('400x300')\n",
    "window.minsize(200,200)\n",
    "window.maxsize(600,400)\n",
    "window.iconbitmap(r'C:\\Users\\ARVIND\\Desktop\\Desk\\Bevy\\av.ico')\n",
    "label1 = Label(window,text='Name:',font='Arial 25 bold').pack(side=LEFT)\n",
    "window.mainloop()"
   ]
  },
  {
   "cell_type": "code",
   "execution_count": 52,
   "metadata": {},
   "outputs": [],
   "source": [
    "window =  Tk()\n",
    "window.title('Label using Tkinter')\n",
    "window.geometry('400x300')\n",
    "window.minsize(200,200)\n",
    "window.maxsize(600,400)\n",
    "window.iconbitmap(r'C:\\Users\\ARVIND\\Desktop\\Desk\\Bevy\\av.ico')\n",
    "label1 = Label(window,text='Name:',font='Arial 25 bold').pack(side=BOTTOM)\n",
    "window.mainloop()"
   ]
  },
  {
   "cell_type": "code",
   "execution_count": 60,
   "metadata": {},
   "outputs": [],
   "source": [
    "window =  Tk()\n",
    "window.title('Label using Tkinter')\n",
    "window.geometry('400x300')\n",
    "window.minsize(200,200)\n",
    "window.maxsize(600,400)\n",
    "window.iconbitmap(r'C:\\Users\\ARVIND\\Desktop\\Desk\\Bevy\\av.ico')\n",
    "label1 = Label(window,text='Name:',font='Arial 25 bold',bg='red').pack(side=BOTTOM,anchor='ne',padx=20,pady=50)\n",
    "window.mainloop()"
   ]
  },
  {
   "cell_type": "code",
   "execution_count": null,
   "metadata": {},
   "outputs": [],
   "source": []
  },
  {
   "cell_type": "code",
   "execution_count": null,
   "metadata": {},
   "outputs": [],
   "source": []
  },
  {
   "cell_type": "code",
   "execution_count": null,
   "metadata": {},
   "outputs": [],
   "source": []
  },
  {
   "cell_type": "code",
   "execution_count": null,
   "metadata": {},
   "outputs": [],
   "source": []
  },
  {
   "cell_type": "code",
   "execution_count": null,
   "metadata": {},
   "outputs": [],
   "source": []
  }
 ],
 "metadata": {
  "kernelspec": {
   "display_name": "Python 3",
   "language": "python",
   "name": "python3"
  },
  "language_info": {
   "codemirror_mode": {
    "name": "ipython",
    "version": 3
   },
   "file_extension": ".py",
   "mimetype": "text/x-python",
   "name": "python",
   "nbconvert_exporter": "python",
   "pygments_lexer": "ipython3",
   "version": "3.9.1"
  }
 },
 "nbformat": 4,
 "nbformat_minor": 4
}
