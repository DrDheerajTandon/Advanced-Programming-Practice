{
 "cells": [
  {
   "cell_type": "code",
   "execution_count": 1,
   "metadata": {},
   "outputs": [
    {
     "name": "stdout",
     "output_type": "stream",
     "text": [
      "2\n",
      "Arvind\n",
      "CSE\n"
     ]
    }
   ],
   "source": [
    "class Student:\n",
    "    roll = 2\n",
    "    name = 'Arvind'\n",
    "    branch = \"CSE\"\n",
    "    def display(self):\n",
    "        print(self.roll)\n",
    "        print(self.name)\n",
    "        print(self.branch)\n",
    "        \n",
    "S = Student()\n",
    "S.display()\n",
    "        "
   ]
  },
  {
   "cell_type": "code",
   "execution_count": 2,
   "metadata": {},
   "outputs": [
    {
     "name": "stdout",
     "output_type": "stream",
     "text": [
      "2\n",
      "Arvind\n",
      "CSE\n",
      "2\n"
     ]
    }
   ],
   "source": [
    "class Student:\n",
    "    roll = 2\n",
    "    name = 'Arvind'\n",
    "    branch = \"CSE\"\n",
    "    def display(self):\n",
    "        print(self.roll)\n",
    "        print(self.name)\n",
    "        print(self.branch)\n",
    "        \n",
    "S = Student()\n",
    "S.display()\n",
    "print(S.roll)"
   ]
  },
  {
   "cell_type": "code",
   "execution_count": 3,
   "metadata": {},
   "outputs": [
    {
     "name": "stdout",
     "output_type": "stream",
     "text": [
      "10\n",
      "Arvind\n",
      "CSE\n"
     ]
    }
   ],
   "source": [
    "class Student:\n",
    "    def __init__(self,roll,name,branch):\n",
    "        self.roll = roll\n",
    "        self.name = name\n",
    "        self.branch = branch\n",
    "        \n",
    "    def display(self):\n",
    "        print(self.roll)\n",
    "        print(self.name)\n",
    "        print(self.branch)\n",
    "        \n",
    "S = Student(10,'Arvind','CSE')\n",
    "S.display()"
   ]
  },
  {
   "cell_type": "markdown",
   "metadata": {},
   "source": [
    "# S.display() = Student.S.display(self)"
   ]
  },
  {
   "cell_type": "code",
   "execution_count": 4,
   "metadata": {},
   "outputs": [
    {
     "name": "stdout",
     "output_type": "stream",
     "text": [
      "10\n",
      "Sparsh\n",
      "CSE\n"
     ]
    }
   ],
   "source": [
    "class Student:\n",
    "    _roll = 10\n",
    "    _name = 'Sparsh'\n",
    "    _branch = 'CSE'\n",
    "    def display(self):\n",
    "        print(self._roll)\n",
    "        print(self._name)\n",
    "        print(self._branch)\n",
    "        \n",
    "S = Student()\n",
    "S.display()"
   ]
  },
  {
   "cell_type": "code",
   "execution_count": 6,
   "metadata": {},
   "outputs": [
    {
     "name": "stdout",
     "output_type": "stream",
     "text": [
      "10\n",
      "Sparsh\n",
      "CSE\n"
     ]
    }
   ],
   "source": [
    "class Student:\n",
    "    _roll = 10\n",
    "    _name = 'Sparsh'\n",
    "    _branch = 'CSE'\n",
    "    def _display(self):\n",
    "        print(self._roll)\n",
    "        print(self._name)\n",
    "        print(self._branch)\n",
    "        \n",
    "S = Student()\n",
    "S._display()"
   ]
  },
  {
   "cell_type": "code",
   "execution_count": 7,
   "metadata": {},
   "outputs": [
    {
     "ename": "AttributeError",
     "evalue": "'Person' object has no attribute '_display'",
     "output_type": "error",
     "traceback": [
      "\u001b[1;31m---------------------------------------------------------------------------\u001b[0m",
      "\u001b[1;31mAttributeError\u001b[0m                            Traceback (most recent call last)",
      "\u001b[1;32m<ipython-input-7-be211d5684a7>\u001b[0m in \u001b[0;36m<module>\u001b[1;34m\u001b[0m\n\u001b[0;32m     12\u001b[0m \u001b[1;33m\u001b[0m\u001b[0m\n\u001b[0;32m     13\u001b[0m \u001b[0mP\u001b[0m \u001b[1;33m=\u001b[0m \u001b[0mPerson\u001b[0m\u001b[1;33m(\u001b[0m\u001b[1;33m)\u001b[0m\u001b[1;33m\u001b[0m\u001b[1;33m\u001b[0m\u001b[0m\n\u001b[1;32m---> 14\u001b[1;33m \u001b[0mP\u001b[0m\u001b[1;33m.\u001b[0m\u001b[0m_display\u001b[0m\u001b[1;33m(\u001b[0m\u001b[1;33m)\u001b[0m\u001b[1;33m\u001b[0m\u001b[1;33m\u001b[0m\u001b[0m\n\u001b[0m",
      "\u001b[1;31mAttributeError\u001b[0m: 'Person' object has no attribute '_display'"
     ]
    }
   ],
   "source": [
    "class Student:\n",
    "    _roll = 10\n",
    "    _name = 'Sparsh'\n",
    "    _branch = 'CSE'\n",
    "    def _display(self):\n",
    "        print(self._roll)\n",
    "        print(self._name)\n",
    "        print(self._branch)\n",
    "        \n",
    "class Person:\n",
    "    pass\n",
    "\n",
    "P = Person()\n",
    "P._display()"
   ]
  },
  {
   "cell_type": "code",
   "execution_count": 8,
   "metadata": {},
   "outputs": [
    {
     "name": "stdout",
     "output_type": "stream",
     "text": [
      "10\n",
      "Sparsh\n",
      "CSE\n"
     ]
    }
   ],
   "source": [
    "class Student:\n",
    "    _roll = 10\n",
    "    _name = 'Sparsh'\n",
    "    _branch = 'CSE'\n",
    "    def _display(self):\n",
    "        print(self._roll)\n",
    "        print(self._name)\n",
    "        print(self._branch)\n",
    "        \n",
    "class Person(Student):\n",
    "    pass\n",
    "\n",
    "P = Person()\n",
    "P._display()"
   ]
  },
  {
   "cell_type": "code",
   "execution_count": 9,
   "metadata": {},
   "outputs": [
    {
     "name": "stdout",
     "output_type": "stream",
     "text": [
      "10\n",
      "Ankit\n",
      "CSE\n"
     ]
    }
   ],
   "source": [
    "class Student:\n",
    "    __roll = 10\n",
    "    __name = 'Ankit'\n",
    "    __branch ='CSE'\n",
    "    def display(self):\n",
    "        print(self.__roll)\n",
    "        print(self.__name)\n",
    "        print(self.__branch)\n",
    "    \n",
    "S  = Student()\n",
    "S.display()\n"
   ]
  },
  {
   "cell_type": "code",
   "execution_count": 10,
   "metadata": {},
   "outputs": [
    {
     "name": "stdout",
     "output_type": "stream",
     "text": [
      "10\n",
      "Ankit\n",
      "CSE\n"
     ]
    },
    {
     "ename": "AttributeError",
     "evalue": "'Student' object has no attribute '__roll'",
     "output_type": "error",
     "traceback": [
      "\u001b[1;31m---------------------------------------------------------------------------\u001b[0m",
      "\u001b[1;31mAttributeError\u001b[0m                            Traceback (most recent call last)",
      "\u001b[1;32m<ipython-input-10-044f41012d5e>\u001b[0m in \u001b[0;36m<module>\u001b[1;34m\u001b[0m\n\u001b[0;32m     10\u001b[0m \u001b[0mS\u001b[0m  \u001b[1;33m=\u001b[0m \u001b[0mStudent\u001b[0m\u001b[1;33m(\u001b[0m\u001b[1;33m)\u001b[0m\u001b[1;33m\u001b[0m\u001b[1;33m\u001b[0m\u001b[0m\n\u001b[0;32m     11\u001b[0m \u001b[0mS\u001b[0m\u001b[1;33m.\u001b[0m\u001b[0mdisplay\u001b[0m\u001b[1;33m(\u001b[0m\u001b[1;33m)\u001b[0m\u001b[1;33m\u001b[0m\u001b[1;33m\u001b[0m\u001b[0m\n\u001b[1;32m---> 12\u001b[1;33m \u001b[0mprint\u001b[0m\u001b[1;33m(\u001b[0m\u001b[0mS\u001b[0m\u001b[1;33m.\u001b[0m\u001b[0m__roll\u001b[0m\u001b[1;33m)\u001b[0m\u001b[1;33m\u001b[0m\u001b[1;33m\u001b[0m\u001b[0m\n\u001b[0m",
      "\u001b[1;31mAttributeError\u001b[0m: 'Student' object has no attribute '__roll'"
     ]
    }
   ],
   "source": [
    "class Student:\n",
    "    __roll = 10\n",
    "    __name = 'Ankit'\n",
    "    __branch ='CSE'\n",
    "    def display(self):\n",
    "        print(self.__roll)\n",
    "        print(self.__name)\n",
    "        print(self.__branch)\n",
    "    \n",
    "S  = Student()\n",
    "S.display()\n",
    "print(S.__roll)"
   ]
  },
  {
   "cell_type": "code",
   "execution_count": 11,
   "metadata": {},
   "outputs": [
    {
     "ename": "AttributeError",
     "evalue": "'MyClass' object has no attribute '__a'",
     "output_type": "error",
     "traceback": [
      "\u001b[1;31m---------------------------------------------------------------------------\u001b[0m",
      "\u001b[1;31mAttributeError\u001b[0m                            Traceback (most recent call last)",
      "\u001b[1;32m<ipython-input-11-ffcec22b4c55>\u001b[0m in \u001b[0;36m<module>\u001b[1;34m\u001b[0m\n\u001b[0;32m      3\u001b[0m \u001b[1;33m\u001b[0m\u001b[0m\n\u001b[0;32m      4\u001b[0m \u001b[0mM\u001b[0m  \u001b[1;33m=\u001b[0m \u001b[0mMyClass\u001b[0m\u001b[1;33m(\u001b[0m\u001b[1;33m)\u001b[0m\u001b[1;33m\u001b[0m\u001b[1;33m\u001b[0m\u001b[0m\n\u001b[1;32m----> 5\u001b[1;33m \u001b[0mprint\u001b[0m\u001b[1;33m(\u001b[0m\u001b[0mM\u001b[0m\u001b[1;33m.\u001b[0m\u001b[0m__a\u001b[0m\u001b[1;33m)\u001b[0m\u001b[1;33m\u001b[0m\u001b[1;33m\u001b[0m\u001b[0m\n\u001b[0m",
      "\u001b[1;31mAttributeError\u001b[0m: 'MyClass' object has no attribute '__a'"
     ]
    }
   ],
   "source": [
    "class MyClass:\n",
    "    __a = 0\n",
    "    \n",
    "M  = MyClass()\n",
    "print(M.__a)"
   ]
  },
  {
   "cell_type": "code",
   "execution_count": null,
   "metadata": {},
   "outputs": [],
   "source": []
  },
  {
   "cell_type": "code",
   "execution_count": 14,
   "metadata": {},
   "outputs": [
    {
     "name": "stdout",
     "output_type": "stream",
     "text": [
      "10\n"
     ]
    }
   ],
   "source": [
    "class MyClass:\n",
    "    __a = 10\n",
    "    \n",
    "M  = MyClass()\n",
    "print(M._MyClass__a)"
   ]
  },
  {
   "cell_type": "code",
   "execution_count": 15,
   "metadata": {},
   "outputs": [
    {
     "name": "stdout",
     "output_type": "stream",
     "text": [
      "10\n"
     ]
    }
   ],
   "source": [
    "class Test:\n",
    "    __a = 0\n",
    "    def display(self,i):\n",
    "        self.__a+=i\n",
    "        print(self.__a)\n",
    "        \n",
    "T = Test()\n",
    "T.display(10)"
   ]
  },
  {
   "cell_type": "markdown",
   "metadata": {},
   "source": [
    "# Single Inheritance"
   ]
  },
  {
   "cell_type": "code",
   "execution_count": 18,
   "metadata": {},
   "outputs": [
    {
     "name": "stdout",
     "output_type": "stream",
     "text": [
      "Child\n",
      "Parent\n"
     ]
    }
   ],
   "source": [
    "class Parent:\n",
    "    def Pdisplay(self):\n",
    "        print('Parent')\n",
    "        \n",
    "        \n",
    "class Child(Parent):\n",
    "    def Cdisplay(self):\n",
    "        print('Child')\n",
    "        \n",
    "    \n",
    "#P = Parent()\n",
    "C = Child()\n",
    "C.Cdisplay()\n",
    "C. Pdisplay()"
   ]
  },
  {
   "cell_type": "code",
   "execution_count": 21,
   "metadata": {},
   "outputs": [
    {
     "name": "stdout",
     "output_type": "stream",
     "text": [
      "Son\n",
      "Father\n",
      "GrandFather\n"
     ]
    }
   ],
   "source": [
    "class GrandFather:\n",
    "    def Gdisplay(self):\n",
    "        print('GrandFather')\n",
    "        \n",
    "class Father(GrandFather):\n",
    "    def Fdisplay(self):\n",
    "        print('Father')\n",
    "        \n",
    "class Son(Father):\n",
    "    def Sdisplay(self):\n",
    "        print('Son')\n",
    "        \n",
    "S  = Son()\n",
    "S.Sdisplay()\n",
    "S.Fdisplay()\n",
    "S.Gdisplay()"
   ]
  },
  {
   "cell_type": "code",
   "execution_count": 26,
   "metadata": {},
   "outputs": [
    {
     "name": "stdout",
     "output_type": "stream",
     "text": [
      "Child 1\n",
      "Parent\n",
      "Child2\n",
      "Parent\n"
     ]
    }
   ],
   "source": [
    "class Parent:\n",
    "    def Pdisplay(self):\n",
    "        print('Parent')\n",
    "\n",
    "class Child1(Parent):\n",
    "    def C1display(self):\n",
    "        print('Child 1')\n",
    "        \n",
    "class Child2(Parent):\n",
    "    def C2display(self):\n",
    "        print('Child2')\n",
    "        \n",
    "C1 = Child1()\n",
    "C1.C1display()\n",
    "C1.Pdisplay()\n",
    "C2 = Child2()\n",
    "C2.C2display()\n",
    "C2.Pdisplay()"
   ]
  },
  {
   "cell_type": "markdown",
   "metadata": {},
   "source": [
    "# Multiple Inheritance"
   ]
  },
  {
   "cell_type": "code",
   "execution_count": 29,
   "metadata": {},
   "outputs": [
    {
     "name": "stdout",
     "output_type": "stream",
     "text": [
      "Son\n",
      "Mother\n",
      "Father\n"
     ]
    }
   ],
   "source": [
    "class Father:\n",
    "    def Fdisplay(self):\n",
    "        print('Father')\n",
    "        \n",
    "class Mother:\n",
    "    def Mdisplay(self):\n",
    "        print('Mother')\n",
    "        \n",
    "class Son(Father,Mother):\n",
    "    def Sdisplay(self):\n",
    "        print('Son')\n",
    "        \n",
    "S  =Son()\n",
    "S.Sdisplay()\n",
    "S.Mdisplay()\n",
    "S.Fdisplay()"
   ]
  },
  {
   "cell_type": "code",
   "execution_count": null,
   "metadata": {},
   "outputs": [],
   "source": []
  }
 ],
 "metadata": {
  "kernelspec": {
   "display_name": "Python 3",
   "language": "python",
   "name": "python3"
  },
  "language_info": {
   "codemirror_mode": {
    "name": "ipython",
    "version": 3
   },
   "file_extension": ".py",
   "mimetype": "text/x-python",
   "name": "python",
   "nbconvert_exporter": "python",
   "pygments_lexer": "ipython3",
   "version": "3.9.1"
  }
 },
 "nbformat": 4,
 "nbformat_minor": 4
}
