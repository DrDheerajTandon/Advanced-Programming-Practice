{
 "cells": [
  {
   "cell_type": "markdown",
   "metadata": {},
   "source": [
    "# Keyboard events"
   ]
  },
  {
   "cell_type": "code",
   "execution_count": 1,
   "metadata": {},
   "outputs": [],
   "source": [
    "from tkinter import *"
   ]
  },
  {
   "cell_type": "code",
   "execution_count": 3,
   "metadata": {},
   "outputs": [],
   "source": [
    "window = Tk()\n",
    "window.title('Keyboard events')\n",
    "window.geometry('400x400')\n",
    "\n",
    "def clicker(event):\n",
    "    Label(window,text='You have pressed a key').pack()\n",
    "\n",
    "btn = Button(window,text='Click Me')\n",
    "btn.bind('<Key>',clicker)\n",
    "btn.pack(pady=50)\n",
    "\n",
    "window.mainloop()"
   ]
  },
  {
   "cell_type": "code",
   "execution_count": 5,
   "metadata": {},
   "outputs": [],
   "source": [
    "window = Tk()\n",
    "window.title('Keyboard events')\n",
    "window.geometry('400x400')\n",
    "\n",
    "def clicker(event):\n",
    "    Label(window,text='You have pressed a key: '+event.char).pack()\n",
    "\n",
    "btn = Button(window,text='Click Me')\n",
    "btn.bind('<Key>',clicker)\n",
    "btn.pack(pady=50)\n",
    "\n",
    "window.mainloop()"
   ]
  },
  {
   "cell_type": "code",
   "execution_count": 7,
   "metadata": {},
   "outputs": [],
   "source": [
    "window = Tk()\n",
    "window.title('Keyboard events')\n",
    "window.geometry('400x400')\n",
    "\n",
    "def clicker(event):\n",
    "    Label(window,text='You have pressed a key: '+event.keysym).pack()\n",
    "\n",
    "btn = Button(window,text='Click Me')\n",
    "btn.bind('<Key>',clicker)\n",
    "btn.pack(pady=50)\n",
    "\n",
    "window.mainloop()"
   ]
  },
  {
   "cell_type": "markdown",
   "metadata": {},
   "source": [
    "# Automatic Events"
   ]
  },
  {
   "cell_type": "code",
   "execution_count": 9,
   "metadata": {},
   "outputs": [],
   "source": [
    "window = Tk()\n",
    "window.title('Automatic events')\n",
    "window.geometry('400x400')\n",
    "\n",
    "def update():\n",
    "    my_label.config(text='Hello How are you?')\n",
    "\n",
    "my_label = Label(window,text='Hello APP Class')\n",
    "my_label.pack(pady=50)\n",
    "\n",
    "my_label.after(5000,update)\n",
    "\n",
    "window.mainloop()"
   ]
  },
  {
   "cell_type": "markdown",
   "metadata": {},
   "source": [
    "# Digital Clock"
   ]
  },
  {
   "cell_type": "code",
   "execution_count": 11,
   "metadata": {},
   "outputs": [],
   "source": [
    "import time"
   ]
  },
  {
   "cell_type": "code",
   "execution_count": 16,
   "metadata": {},
   "outputs": [],
   "source": [
    "window = Tk()\n",
    "window.title('Automatic events')\n",
    "window.geometry('400x400')\n",
    "\n",
    "def clock():\n",
    "    hour = time.strftime('%H')\n",
    "    minute = time.strftime('%M')\n",
    "    second = time.strftime('%S')\n",
    "    \n",
    "    my_label.config(text=hour+':'+minute+':'+second)\n",
    "    my_label.after(1000,clock)\n",
    "\n",
    "my_label = Label(window,text='',bg='blue',fg='white',font='Arial 25 bold')\n",
    "my_label.pack(pady=50)\n",
    "clock()\n",
    "\n",
    "window.mainloop()"
   ]
  },
  {
   "cell_type": "code",
   "execution_count": 19,
   "metadata": {},
   "outputs": [],
   "source": [
    "window = Tk()\n",
    "window.title('Automatic events')\n",
    "window.geometry('400x400')\n",
    "\n",
    "def clock():\n",
    "    hour = time.strftime('%H')\n",
    "    minute = time.strftime('%M')\n",
    "    second = time.strftime('%S')\n",
    "    am_pm = time.strftime('%p')\n",
    "    \n",
    "    my_label.config(text=hour+':'+minute+':'+second+am_pm)\n",
    "    my_label.after(1000,clock)\n",
    "\n",
    "my_label = Label(window,text='',bg='blue',fg='white',font='Arial 25 bold')\n",
    "my_label.pack(pady=50)\n",
    "clock()\n",
    "\n",
    "window.mainloop()"
   ]
  },
  {
   "cell_type": "code",
   "execution_count": 20,
   "metadata": {},
   "outputs": [],
   "source": [
    "import numpy as np"
   ]
  },
  {
   "cell_type": "code",
   "execution_count": 21,
   "metadata": {},
   "outputs": [
    {
     "name": "stdout",
     "output_type": "stream",
     "text": [
      "[[1 2 3]\n",
      " [4 5 6]\n",
      " [7 8 9]]\n"
     ]
    }
   ],
   "source": [
    "a = np.array([(1,2,3),(4,5,6),(7,8,9)])\n",
    "print(a)"
   ]
  },
  {
   "cell_type": "code",
   "execution_count": null,
   "metadata": {},
   "outputs": [],
   "source": [
    "b = np.array([(1,2,3),(4,5,6),(7,8,9)])\n",
    "print(b)"
   ]
  },
  {
   "cell_type": "code",
   "execution_count": null,
   "metadata": {},
   "outputs": [],
   "source": []
  }
 ],
 "metadata": {
  "kernelspec": {
   "display_name": "Python 3",
   "language": "python",
   "name": "python3"
  },
  "language_info": {
   "codemirror_mode": {
    "name": "ipython",
    "version": 3
   },
   "file_extension": ".py",
   "mimetype": "text/x-python",
   "name": "python",
   "nbconvert_exporter": "python",
   "pygments_lexer": "ipython3",
   "version": "3.9.1"
  }
 },
 "nbformat": 4,
 "nbformat_minor": 4
}
