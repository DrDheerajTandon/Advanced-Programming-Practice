{
 "cells": [
  {
   "cell_type": "markdown",
   "metadata": {},
   "source": [
    "# 18. Write a program to calculate sum of digits of a 5 digits number using recursion. "
   ]
  },
  {
   "cell_type": "code",
   "execution_count": 1,
   "metadata": {},
   "outputs": [
    {
     "name": "stdout",
     "output_type": "stream",
     "text": [
      "Enter the five digit number: 12345\n",
      "The sum of digits is 15\n"
     ]
    }
   ],
   "source": [
    "def sum_of_digits(n,r):\n",
    "    if n==0:\n",
    "        return 0\n",
    "    else:\n",
    "        return n%10+sum_of_digits(n//10)\n",
    "    \n",
    "n = int(input('Enter the five digit number: '))\n",
    "res = sum_of_digits(n)\n",
    "print('The sum of digits is',res)"
   ]
  },
  {
   "cell_type": "markdown",
   "metadata": {},
   "source": [
    "# 19. Write a Python program to reverse the 5 digits number using recursion. "
   ]
  },
  {
   "cell_type": "code",
   "execution_count": 4,
   "metadata": {},
   "outputs": [
    {
     "name": "stdout",
     "output_type": "stream",
     "text": [
      "Enter five digits number: 12345\n",
      "The reverse number is 54321\n"
     ]
    }
   ],
   "source": [
    "def revnum(n,r):\n",
    "    if n==0:\n",
    "        return r\n",
    "    else:\n",
    "        return revnum(n//10,r*10+n%10)\n",
    "    \n",
    "n = int(input('Enter five digits number: ')) #12345\n",
    "res = revnum(n,0)\n",
    "print('The reverse number is',res)\n",
    "    "
   ]
  },
  {
   "cell_type": "code",
   "execution_count": 5,
   "metadata": {},
   "outputs": [
    {
     "ename": "IndentationError",
     "evalue": "expected an indented block (<ipython-input-5-92d97fe1200f>, line 2)",
     "output_type": "error",
     "traceback": [
      "\u001b[1;36m  File \u001b[1;32m\"<ipython-input-5-92d97fe1200f>\"\u001b[1;36m, line \u001b[1;32m2\u001b[0m\n\u001b[1;33m    if n==0:\u001b[0m\n\u001b[1;37m    ^\u001b[0m\n\u001b[1;31mIndentationError\u001b[0m\u001b[1;31m:\u001b[0m expected an indented block\n"
     ]
    }
   ],
   "source": [
    "def revnum(n,r):\n",
    "if n==0:\n",
    "    return r\n",
    "else:\n",
    "        return revnum(n//10,r*10+n%10)\n",
    "    \n",
    "n = int(input('Enter five digits number: ')) #12345\n",
    "res = revnum(n,0)\n",
    "print('The reverse number is',res)\n",
    "    "
   ]
  },
  {
   "cell_type": "markdown",
   "metadata": {},
   "source": [
    "# map() function"
   ]
  },
  {
   "cell_type": "code",
   "execution_count": 6,
   "metadata": {},
   "outputs": [
    {
     "name": "stdout",
     "output_type": "stream",
     "text": [
      "Enter the radius: 2\n"
     ]
    },
    {
     "data": {
      "text/plain": [
       "'The area is 12.566370614359172'"
      ]
     },
     "execution_count": 6,
     "metadata": {},
     "output_type": "execute_result"
    }
   ],
   "source": [
    "import math\n",
    "def area(r):\n",
    "    a = math.pi*r**2\n",
    "    return 'The area is {}'.format(a)\n",
    "r = int(input('Enter the radius: '))\n",
    "area(r)"
   ]
  },
  {
   "cell_type": "code",
   "execution_count": null,
   "metadata": {},
   "outputs": [],
   "source": [
    "r1 = [1,2,3,4,5,6]"
   ]
  },
  {
   "cell_type": "code",
   "execution_count": 7,
   "metadata": {},
   "outputs": [
    {
     "name": "stdout",
     "output_type": "stream",
     "text": [
      "How many elements you want to enter?5\n",
      "Enter the element: 1\n",
      "Enter the element: 2\n",
      "Enter the element: 3\n",
      "Enter the element: 4\n",
      "Enter the element: 5\n",
      "The radii [1, 2, 3, 4, 5]\n",
      "['The area is 3.141592653589793', 'The area is 12.566370614359172', 'The area is 28.274333882308138', 'The area is 50.26548245743669', 'The area is 78.53981633974483']\n"
     ]
    }
   ],
   "source": [
    "import math\n",
    "def area(r):\n",
    "    a = math.pi*r**2\n",
    "    return 'The area is {}'.format(a)\n",
    "\n",
    "radius = []\n",
    "n = int(input('How many elements you want to enter?'))\n",
    "for i in range(n):\n",
    "    el = int(input('Enter the element: '))\n",
    "    radius.append(el)\n",
    "print('The radii',radius)\n",
    "\n",
    "areas = []\n",
    "for i in radius:\n",
    "    a1 = area(i)\n",
    "    areas.append(a1)\n",
    "    \n",
    "print(areas)"
   ]
  },
  {
   "cell_type": "code",
   "execution_count": 8,
   "metadata": {},
   "outputs": [
    {
     "name": "stdout",
     "output_type": "stream",
     "text": [
      "How many elements you want to enter?3\n",
      "Enter the element: 1\n",
      "Enter the element: 2\n",
      "Enter the element: 3\n",
      "The radii [1, 2, 3]\n",
      "<map object at 0x000001A22B154D30>\n"
     ]
    }
   ],
   "source": [
    "import math\n",
    "def area(r):\n",
    "    a = math.pi*r**2\n",
    "    return 'The area is {}'.format(a)\n",
    "\n",
    "radius = []\n",
    "n = int(input('How many elements you want to enter?'))\n",
    "for i in range(n):\n",
    "    el = int(input('Enter the element: '))\n",
    "    radius.append(el)\n",
    "print('The radii',radius)\n",
    "\n",
    "res=map(area,radius)\n",
    "print(res)"
   ]
  },
  {
   "cell_type": "code",
   "execution_count": 9,
   "metadata": {},
   "outputs": [
    {
     "name": "stdout",
     "output_type": "stream",
     "text": [
      "How many elements you want to enter?5\n",
      "Enter the element: 1\n",
      "Enter the element: 2\n",
      "Enter the element: 3\n",
      "Enter the element: 4\n",
      "Enter the element: 5\n",
      "The radii [1, 2, 3, 4, 5]\n",
      "['The area is 3.141592653589793', 'The area is 12.566370614359172', 'The area is 28.274333882308138', 'The area is 50.26548245743669', 'The area is 78.53981633974483']\n"
     ]
    }
   ],
   "source": [
    "import math\n",
    "def area(r):\n",
    "    a = math.pi*r**2\n",
    "    return 'The area is {}'.format(a)\n",
    "\n",
    "radius = []\n",
    "n = int(input('How many elements you want to enter?'))\n",
    "for i in range(n):\n",
    "    el = int(input('Enter the element: '))\n",
    "    radius.append(el)\n",
    "print('The radii',radius)\n",
    "\n",
    "res=map(area,radius)\n",
    "res = list(res)\n",
    "print(res)"
   ]
  },
  {
   "cell_type": "code",
   "execution_count": 12,
   "metadata": {},
   "outputs": [
    {
     "name": "stdout",
     "output_type": "stream",
     "text": [
      "How many elements you want to enter?5\n",
      "Enter the element: 1\n",
      "Enter the element: 2\n",
      "Enter the element: 3\n",
      "Enter the element: 4\n",
      "Enter the element: 5\n",
      "The radii [1, 2, 3, 4, 5]\n",
      "3.141592653589793\n",
      "12.566370614359172\n",
      "28.274333882308138\n",
      "50.26548245743669\n",
      "78.53981633974483\n"
     ]
    }
   ],
   "source": [
    "radius = []\n",
    "n = int(input('How many elements you want to enter?'))\n",
    "for i in range(n):\n",
    "    el = int(input('Enter the element: '))\n",
    "    radius.append(el)\n",
    "print('The radii',radius)\n",
    "\n",
    "res=map(lambda r:math.pi*r**2,radius)\n",
    "for i in res:\n",
    "    print(i)\n"
   ]
  },
  {
   "cell_type": "code",
   "execution_count": 13,
   "metadata": {},
   "outputs": [
    {
     "name": "stdout",
     "output_type": "stream",
     "text": [
      "How many elements you want to enter?4\n",
      "Enter the element: 1\n",
      "Enter the element: 2\n",
      "Enter the element: 3\n",
      "Enter the element: 4\n",
      "The numbers [1, 2, 3, 4]\n",
      "['The 1 is odd', 'The 2 is even', 'The 3 is odd', 'The 4 is even']\n"
     ]
    }
   ],
   "source": [
    "def evenorodd(n):\n",
    "    if n%2==0:\n",
    "        return 'The {} is even'.format(n)\n",
    "    else:\n",
    "        return 'The {} is odd'.format(n)\n",
    "    \n",
    "numbers = []\n",
    "n = int(input('How many elements you want to enter?'))\n",
    "for i in range(n):\n",
    "    el = int(input('Enter the element: '))\n",
    "    numbers.append(el)\n",
    "print('The numbers',numbers)\n",
    "\n",
    "res = map(evenorodd,numbers)\n",
    "res=list(res)\n",
    "print(res)"
   ]
  },
  {
   "cell_type": "code",
   "execution_count": 14,
   "metadata": {},
   "outputs": [
    {
     "name": "stdout",
     "output_type": "stream",
     "text": [
      "How many elements you want to enter?5\n",
      "Enter the element: 1\n",
      "Enter the element: 2\n",
      "Enter the element: 3\n",
      "Enter the element: 4\n",
      "Enter the element: 5\n",
      "The numbers [1, 2, 3, 4, 5]\n",
      "[False, True, False, True, False]\n"
     ]
    }
   ],
   "source": [
    "   \n",
    "numbers = []\n",
    "n = int(input('How many elements you want to enter?'))\n",
    "for i in range(n):\n",
    "    el = int(input('Enter the element: '))\n",
    "    numbers.append(el)\n",
    "print('The numbers',numbers)\n",
    "\n",
    "res = map(lambda n: n%2==0,numbers)\n",
    "res=list(res)\n",
    "print(res)"
   ]
  },
  {
   "cell_type": "code",
   "execution_count": null,
   "metadata": {},
   "outputs": [],
   "source": []
  }
 ],
 "metadata": {
  "kernelspec": {
   "display_name": "Python 3",
   "language": "python",
   "name": "python3"
  },
  "language_info": {
   "codemirror_mode": {
    "name": "ipython",
    "version": 3
   },
   "file_extension": ".py",
   "mimetype": "text/x-python",
   "name": "python",
   "nbconvert_exporter": "python",
   "pygments_lexer": "ipython3",
   "version": "3.9.1"
  }
 },
 "nbformat": 4,
 "nbformat_minor": 4
}
