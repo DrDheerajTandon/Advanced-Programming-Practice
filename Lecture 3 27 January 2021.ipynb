{
 "cells": [
  {
   "cell_type": "code",
   "execution_count": 4,
   "metadata": {},
   "outputs": [
    {
     "name": "stdout",
     "output_type": "stream",
     "text": [
      "Enter the number: 20\n"
     ]
    }
   ],
   "source": [
    "n = int(input('Enter the number: '))\n",
    "if n<10:\n",
    "    print('SRM')"
   ]
  },
  {
   "cell_type": "code",
   "execution_count": 6,
   "metadata": {},
   "outputs": [
    {
     "name": "stdout",
     "output_type": "stream",
     "text": [
      "Enter the number: 20\n",
      "India\n"
     ]
    }
   ],
   "source": [
    "n = int(input('Enter the number: '))\n",
    "if n<10:\n",
    "    print('SRM')\n",
    "else:\n",
    "    print('India')"
   ]
  },
  {
   "cell_type": "code",
   "execution_count": 9,
   "metadata": {},
   "outputs": [
    {
     "name": "stdout",
     "output_type": "stream",
     "text": [
      "Enter the number: 34\n",
      "SRM\n"
     ]
    }
   ],
   "source": [
    "n = int(input('Enter the number: '))\n",
    "if n == 1:\n",
    "    print('CSE')\n",
    "elif n ==2:\n",
    "    print('ME')\n",
    "elif n == 3:\n",
    "    print('IT')\n",
    "else:\n",
    "    print('SRM')"
   ]
  },
  {
   "cell_type": "code",
   "execution_count": 11,
   "metadata": {},
   "outputs": [
    {
     "name": "stdout",
     "output_type": "stream",
     "text": [
      "Enter the number: 29\n"
     ]
    }
   ],
   "source": [
    "n = int(input('Enter the number: '))\n",
    "if n<10: print('Hello')"
   ]
  },
  {
   "cell_type": "markdown",
   "metadata": {},
   "source": [
    "# 1. Write a Python program to find whether a given number (accept from the user) is even or odd."
   ]
  },
  {
   "cell_type": "code",
   "execution_count": 13,
   "metadata": {},
   "outputs": [
    {
     "name": "stdout",
     "output_type": "stream",
     "text": [
      "Enter the number: 4\n",
      "Even\n"
     ]
    }
   ],
   "source": [
    "n = int(input('Enter the number: '))\n",
    "if n%2==0:\n",
    "    print('Even')\n",
    "else:\n",
    "    print('Odd')"
   ]
  },
  {
   "cell_type": "markdown",
   "metadata": {},
   "source": [
    "# 2. If cost price and selling price of an item is input through the keyboard, write a program to determine whether the seller has made profit or incurred loss. Also determine how much profit he made or loss he incurred."
   ]
  },
  {
   "cell_type": "code",
   "execution_count": 15,
   "metadata": {},
   "outputs": [
    {
     "name": "stdout",
     "output_type": "stream",
     "text": [
      "Enter cost price: 100\n",
      "Enter selling price:80\n",
      "Loss incurred: 20\n"
     ]
    }
   ],
   "source": [
    "#p = sp-cp\n",
    "#l = cp-sp\n",
    "cp = int(input('Enter cost price: '))\n",
    "sp = int(input('Enter selling price:'))\n",
    "p=sp-cp\n",
    "l=cp-sp\n",
    "if p>0:\n",
    "    print('Profit made:',p)\n",
    "else:\n",
    "    print('Loss incurred:',l)\n"
   ]
  },
  {
   "cell_type": "markdown",
   "metadata": {},
   "source": [
    "# 3. Any year is input through the keyboard. Write a program to determine whether the year is a leap year or not. \n"
   ]
  },
  {
   "cell_type": "code",
   "execution_count": 1,
   "metadata": {},
   "outputs": [
    {
     "name": "stdout",
     "output_type": "stream",
     "text": [
      "Enter the year: 1900\n",
      "Not Leap Year\n"
     ]
    }
   ],
   "source": [
    "y = int(input('Enter the year: '))\n",
    "if y%100==0:\n",
    "    if y%400==0:\n",
    "        print('Leap Year')\n",
    "    else:\n",
    "        print('Not Leap Year')\n",
    "else:\n",
    "    if y%4==0:\n",
    "        print('Leap Year')\n",
    "    else:\n",
    "        print('Not Leap Year')"
   ]
  },
  {
   "cell_type": "markdown",
   "metadata": {},
   "source": [
    "# 4. Write a program to check whether a triangle is valid or not, when the three angles of the triangle are entered through the keyboard. A triangle is valid if the sum of all the three angles is equal to 180 degrees."
   ]
  },
  {
   "cell_type": "markdown",
   "metadata": {},
   "source": [
    "# 5. Given three points P1(x1, y1), P2(x2, y2) and P3(x3, y3), write a program to check if all the three points fall on one straight line."
   ]
  },
  {
   "cell_type": "code",
   "execution_count": null,
   "metadata": {},
   "outputs": [],
   "source": [
    "# m = y2-y1/x2-x1\n",
    "# n = y3-y2/x3-x2\n",
    "# if m ==n \n"
   ]
  },
  {
   "cell_type": "markdown",
   "metadata": {},
   "source": [
    "# Relational Operartors: \n",
    "<\n",
    ">\n",
    "<=\n",
    ">=\n",
    "== (Comparison operator)\n",
    "!= "
   ]
  },
  {
   "cell_type": "markdown",
   "metadata": {},
   "source": [
    "# Logical Operators:\n",
    "\n",
    " and = &&\n",
    " or = ||\n",
    " not = !"
   ]
  },
  {
   "cell_type": "code",
   "execution_count": 3,
   "metadata": {},
   "outputs": [
    {
     "name": "stdout",
     "output_type": "stream",
     "text": [
      "B\n"
     ]
    }
   ],
   "source": [
    "if 1<5 and 15<10:\n",
    "    print('A')\n",
    "else:\n",
    "    print('B')"
   ]
  },
  {
   "cell_type": "code",
   "execution_count": 4,
   "metadata": {},
   "outputs": [
    {
     "name": "stdout",
     "output_type": "stream",
     "text": [
      "A\n"
     ]
    }
   ],
   "source": [
    "if 1<5 or 15<10:\n",
    "    print('A')\n",
    "else:\n",
    "    print('B')"
   ]
  },
  {
   "cell_type": "code",
   "execution_count": 5,
   "metadata": {},
   "outputs": [
    {
     "name": "stdout",
     "output_type": "stream",
     "text": [
      "B\n"
     ]
    }
   ],
   "source": [
    "if not True:\n",
    "    print('A')\n",
    "else:\n",
    "    print('B')"
   ]
  },
  {
   "cell_type": "code",
   "execution_count": 6,
   "metadata": {},
   "outputs": [
    {
     "name": "stdout",
     "output_type": "stream",
     "text": [
      "B\n"
     ]
    }
   ],
   "source": [
    "if not 4:\n",
    "    print('A')\n",
    "else:\n",
    "    print('B')"
   ]
  },
  {
   "cell_type": "markdown",
   "metadata": {},
   "source": [
    "# 6. Program to find the smallest number among three numbers. "
   ]
  },
  {
   "cell_type": "code",
   "execution_count": 9,
   "metadata": {},
   "outputs": [
    {
     "name": "stdout",
     "output_type": "stream",
     "text": [
      "Enter the first number:20\n",
      "Enter the second number:30\n",
      "Enter the third number:10\n",
      "Smallest 10\n"
     ]
    }
   ],
   "source": [
    "n1 = int(input('Enter the first number:'))\n",
    "n2 = int(input('Enter the second number:'))\n",
    "n3 = int(input('Enter the third number:'))\n",
    "if n1<n2 and n1<n3:\n",
    "    print('Smallest',n1)\n",
    "elif n2<n1 and n2<n3:\n",
    "    print('Smallest',n2)\n",
    "else:\n",
    "    print('Smallest',n3)"
   ]
  },
  {
   "cell_type": "markdown",
   "metadata": {},
   "source": [
    "# 7. Any year is input through the keyboard. Write a program to determine whether the year is a leap year or not using logical operators."
   ]
  },
  {
   "cell_type": "code",
   "execution_count": 11,
   "metadata": {},
   "outputs": [
    {
     "name": "stdout",
     "output_type": "stream",
     "text": [
      "Enter the year: 1900\n",
      "Not Leap Year\n"
     ]
    }
   ],
   "source": [
    "y = int(input('Enter the year: '))\n",
    "if (y%100==0 and y%400==0) or (y%100!=0 and y%4==0):\n",
    "    print('Leap Year')\n",
    "else:\n",
    "    print('Not Leap Year')"
   ]
  },
  {
   "cell_type": "code",
   "execution_count": null,
   "metadata": {},
   "outputs": [],
   "source": []
  }
 ],
 "metadata": {
  "kernelspec": {
   "display_name": "Python 3",
   "language": "python",
   "name": "python3"
  },
  "language_info": {
   "codemirror_mode": {
    "name": "ipython",
    "version": 3
   },
   "file_extension": ".py",
   "mimetype": "text/x-python",
   "name": "python",
   "nbconvert_exporter": "python",
   "pygments_lexer": "ipython3",
   "version": "3.9.1"
  }
 },
 "nbformat": 4,
 "nbformat_minor": 4
}
