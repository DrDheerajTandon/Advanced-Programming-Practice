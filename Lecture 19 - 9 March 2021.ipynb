{
 "cells": [
  {
   "cell_type": "markdown",
   "metadata": {},
   "source": [
    "# Menu Widget"
   ]
  },
  {
   "cell_type": "code",
   "execution_count": 4,
   "metadata": {},
   "outputs": [],
   "source": [
    "from tkinter import *\n",
    "window = Tk()\n",
    "window.title('Menu Bar')\n",
    "window.geometry('400x350')\n",
    "\n",
    "my_menu = Menu(window)\n",
    "window.config(menu=my_menu)\n",
    "\n",
    "file_menu = Menu(my_menu)\n",
    "my_menu.add_cascade(label='File',menu=file_menu)\n",
    "\n",
    "\n",
    "edit_menu = Menu(my_menu)\n",
    "my_menu.add_cascade(label=\"Edit\",menu=edit_menu)\n",
    "\n",
    "\n",
    "window.mainloop()"
   ]
  },
  {
   "cell_type": "code",
   "execution_count": 9,
   "metadata": {},
   "outputs": [],
   "source": [
    "from tkinter import *\n",
    "window = Tk()\n",
    "window.title('Menu Bar')\n",
    "window.geometry('400x350')\n",
    "\n",
    "my_menu = Menu(window)\n",
    "window.config(menu=my_menu)\n",
    "\n",
    "file_menu = Menu(my_menu)\n",
    "my_menu.add_cascade(label='File',menu=file_menu)\n",
    "\n",
    "file_menu.add_command(label='New')\n",
    "file_menu.add_command(label='Open')\n",
    "file_menu.add_separator()\n",
    "file_menu.add_command(label='Save')\n",
    "file_menu.add_command(label='Save as')\n",
    "file_menu.add_command(label='Exit',command=window.destroy)\n",
    "\n",
    "edit_menu = Menu(my_menu)\n",
    "my_menu.add_cascade(label=\"Edit\",menu=edit_menu)\n",
    "\n",
    "\n",
    "window.mainloop()"
   ]
  },
  {
   "cell_type": "code",
   "execution_count": 12,
   "metadata": {},
   "outputs": [],
   "source": [
    "from tkinter import *\n",
    "window = Tk()\n",
    "window.title('Menu Bar')\n",
    "window.geometry('400x350')\n",
    "\n",
    "def new():\n",
    "    Label(text='New Page').pack()\n",
    "    \n",
    "    \n",
    "def open_file():\n",
    "    Label(text='Open File').pack()\n",
    "\n",
    "my_menu = Menu(window)\n",
    "window.config(menu=my_menu)\n",
    "\n",
    "file_menu = Menu(my_menu)\n",
    "my_menu.add_cascade(label='File',menu=file_menu)\n",
    "\n",
    "file_menu.add_command(label='New',command=new)\n",
    "file_menu.add_command(label='Open',command=open_file)\n",
    "file_menu.add_separator()\n",
    "file_menu.add_command(label='Save')\n",
    "file_menu.add_command(label='Save as')\n",
    "file_menu.add_command(label='Exit',command=window.destroy)\n",
    "\n",
    "edit_menu = Menu(my_menu)\n",
    "my_menu.add_cascade(label=\"Edit\",menu=edit_menu)\n",
    "\n",
    "edit_menu.add_command(label='Cut')\n",
    "\n",
    "\n",
    "window.mainloop()"
   ]
  },
  {
   "cell_type": "markdown",
   "metadata": {},
   "source": [
    "# Canavs"
   ]
  },
  {
   "cell_type": "markdown",
   "metadata": {},
   "source": [
    "# line"
   ]
  },
  {
   "cell_type": "code",
   "execution_count": 15,
   "metadata": {},
   "outputs": [],
   "source": [
    "from tkinter import *\n",
    "window = Tk()\n",
    "window.title('Canvas')\n",
    "window.geometry('400x350')\n",
    "\n",
    "can_widget = Canvas(window,width=400,height=350)\n",
    "can_widget.pack()\n",
    "\n",
    "can_widget.create_line(10,30,200,50)\n",
    "\n",
    "window.mainloop()"
   ]
  },
  {
   "cell_type": "markdown",
   "metadata": {},
   "source": [
    "# Rectangle"
   ]
  },
  {
   "cell_type": "code",
   "execution_count": 18,
   "metadata": {},
   "outputs": [],
   "source": [
    "from tkinter import *\n",
    "window = Tk()\n",
    "window.title('Rectangle')\n",
    "window.geometry('400x350')\n",
    "\n",
    "can_widget = Canvas(window,width=400,height=350)\n",
    "can_widget.pack()\n",
    "\n",
    "can_widget.create_rectangle(10,30,200,300,fill='yellow')\n",
    "\n",
    "window.mainloop()"
   ]
  },
  {
   "cell_type": "markdown",
   "metadata": {},
   "source": [
    "# Oval"
   ]
  },
  {
   "cell_type": "code",
   "execution_count": 19,
   "metadata": {},
   "outputs": [],
   "source": [
    "from tkinter import *\n",
    "window = Tk()\n",
    "window.title('Rectangle')\n",
    "window.geometry('400x350')\n",
    "\n",
    "can_widget = Canvas(window,width=400,height=350)\n",
    "can_widget.pack()\n",
    "\n",
    "can_widget.create_oval(10,30,200,300,fill='yellow')\n",
    "\n",
    "window.mainloop()"
   ]
  },
  {
   "cell_type": "markdown",
   "metadata": {},
   "source": [
    "# Polygon"
   ]
  },
  {
   "cell_type": "code",
   "execution_count": 20,
   "metadata": {},
   "outputs": [],
   "source": [
    "from tkinter import *\n",
    "window = Tk()\n",
    "window.title('Polygon')\n",
    "window.geometry('400x350')\n",
    "\n",
    "can_widget = Canvas(window,width=400,height=350)\n",
    "can_widget.pack()\n",
    "\n",
    "can_widget.create_polygon(10,30,200,300,400,248,fill='yellow')\n",
    "\n",
    "window.mainloop()"
   ]
  },
  {
   "cell_type": "markdown",
   "metadata": {},
   "source": [
    "# Text"
   ]
  },
  {
   "cell_type": "code",
   "execution_count": 21,
   "metadata": {},
   "outputs": [],
   "source": [
    "from tkinter import *\n",
    "window = Tk()\n",
    "window.title('Polygon')\n",
    "window.geometry('400x350')\n",
    "\n",
    "can_widget = Canvas(window,width=400,height=350)\n",
    "can_widget.pack()\n",
    "\n",
    "can_widget.create_text(50,100,text='Python')\n",
    "\n",
    "window.mainloop()"
   ]
  },
  {
   "cell_type": "markdown",
   "metadata": {},
   "source": [
    "# Event Handling"
   ]
  },
  {
   "cell_type": "markdown",
   "metadata": {},
   "source": [
    "# Mouse Event"
   ]
  },
  {
   "cell_type": "code",
   "execution_count": 23,
   "metadata": {},
   "outputs": [],
   "source": [
    "from tkinter import *\n",
    "window = Tk()\n",
    "window.title('Polygon')\n",
    "window.geometry('400x350')\n",
    "\n",
    "def clicker():\n",
    "    Label(window,text='You have clicked this Button').pack()\n",
    "\n",
    "btn = Button(window,text='Click me',command=clicker)\n",
    "btn.pack(pady=20)\n",
    "\n",
    "window.mainloop()"
   ]
  },
  {
   "cell_type": "code",
   "execution_count": 25,
   "metadata": {},
   "outputs": [],
   "source": [
    "from tkinter import *\n",
    "window = Tk()\n",
    "window.title('Polygon')\n",
    "window.geometry('400x350')\n",
    "\n",
    "def clicker(event):\n",
    "    Label(window,text='You have clicked Left button').pack()\n",
    "\n",
    "btn = Button(window,text='Click me')\n",
    "btn.bind('<Button-1>',clicker)\n",
    "btn.pack(pady=20)\n",
    "\n",
    "window.mainloop()"
   ]
  },
  {
   "cell_type": "code",
   "execution_count": 27,
   "metadata": {},
   "outputs": [],
   "source": [
    "from tkinter import *\n",
    "window = Tk()\n",
    "window.title('Polygon')\n",
    "window.geometry('400x350')\n",
    "\n",
    "def clicker(event):\n",
    "    Label(window,text='You have clicked right button').pack()\n",
    "\n",
    "btn = Button(window,text='Click me')\n",
    "btn.bind('<Button-3>',clicker)\n",
    "btn.pack(pady=20)\n",
    "\n",
    "window.mainloop()"
   ]
  },
  {
   "cell_type": "markdown",
   "metadata": {},
   "source": [
    "# coordinates"
   ]
  },
  {
   "cell_type": "code",
   "execution_count": 28,
   "metadata": {},
   "outputs": [],
   "source": [
    "from tkinter import *\n",
    "window = Tk()\n",
    "window.title('Polygon')\n",
    "window.geometry('400x350')\n",
    "\n",
    "def clicker(event):\n",
    "    Label(window,text='You have clicked at:'+str(event.x)+' '+str(event.y)).pack()\n",
    "\n",
    "btn = Button(window,text='Click me')\n",
    "btn.bind('<Button-1>',clicker)\n",
    "btn.pack(pady=20)\n",
    "\n",
    "window.mainloop()"
   ]
  },
  {
   "cell_type": "code",
   "execution_count": 29,
   "metadata": {},
   "outputs": [],
   "source": [
    "from tkinter import *\n",
    "window = Tk()\n",
    "window.title('Polygon')\n",
    "window.geometry('400x350')\n",
    "\n",
    "def clicker(event):\n",
    "    Label(window,text='You have clicked').pack()\n",
    "\n",
    "btn = Button(window,text='Click me')\n",
    "btn.bind('<Enter>',clicker)\n",
    "btn.pack(pady=20)\n",
    "\n",
    "window.mainloop()"
   ]
  },
  {
   "cell_type": "code",
   "execution_count": 30,
   "metadata": {},
   "outputs": [],
   "source": [
    "from tkinter import *\n",
    "window = Tk()\n",
    "window.title('Polygon')\n",
    "window.geometry('400x350')\n",
    "\n",
    "def clicker(event):\n",
    "    Label(window,text='You have clicked').pack()\n",
    "\n",
    "btn = Button(window,text='Click me')\n",
    "btn.bind('<Leave>',clicker)\n",
    "btn.pack(pady=20)\n",
    "\n",
    "window.mainloop()"
   ]
  },
  {
   "cell_type": "code",
   "execution_count": 32,
   "metadata": {},
   "outputs": [],
   "source": [
    "from tkinter import *\n",
    "window = Tk()\n",
    "window.title('Polygon')\n",
    "window.geometry('400x350')\n",
    "\n",
    "def clicker(event):\n",
    "    Label(window,text='You have clicked').pack()\n",
    "\n",
    "btn = Button(window,text='Click me')\n",
    "btn.bind('<FocusIn>',clicker)\n",
    "btn.pack(pady=20)\n",
    "\n",
    "window.mainloop()"
   ]
  },
  {
   "cell_type": "code",
   "execution_count": null,
   "metadata": {},
   "outputs": [],
   "source": []
  },
  {
   "cell_type": "code",
   "execution_count": null,
   "metadata": {},
   "outputs": [],
   "source": []
  }
 ],
 "metadata": {
  "kernelspec": {
   "display_name": "Python 3",
   "language": "python",
   "name": "python3"
  },
  "language_info": {
   "codemirror_mode": {
    "name": "ipython",
    "version": 3
   },
   "file_extension": ".py",
   "mimetype": "text/x-python",
   "name": "python",
   "nbconvert_exporter": "python",
   "pygments_lexer": "ipython3",
   "version": "3.9.1"
  }
 },
 "nbformat": 4,
 "nbformat_minor": 4
}
