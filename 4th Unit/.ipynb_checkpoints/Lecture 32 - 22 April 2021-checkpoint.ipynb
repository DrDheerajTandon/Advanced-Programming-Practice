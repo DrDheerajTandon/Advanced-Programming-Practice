{
 "cells": [
  {
   "cell_type": "code",
   "execution_count": 1,
   "metadata": {},
   "outputs": [],
   "source": [
    "from pyDatalog import pyDatalog"
   ]
  },
  {
   "cell_type": "code",
   "execution_count": 3,
   "metadata": {},
   "outputs": [],
   "source": [
    "import math"
   ]
  },
  {
   "cell_type": "code",
   "execution_count": null,
   "metadata": {},
   "outputs": [],
   "source": [
    "pyDatalog.create_terms('X,Y')\n",
    "pyDatalog.create_terms('math')\n",
    "print((X==2) & (math.sqrt(X)))"
   ]
  },
  {
   "cell_type": "markdown",
   "metadata": {},
   "source": [
    "# Loops in pyDatalog"
   ]
  },
  {
   "cell_type": "code",
   "execution_count": 2,
   "metadata": {},
   "outputs": [],
   "source": [
    "pyDatalog.create_terms('I')"
   ]
  },
  {
   "cell_type": "code",
   "execution_count": 3,
   "metadata": {},
   "outputs": [
    {
     "name": "stdout",
     "output_type": "stream",
     "text": [
      "I\n",
      "-\n",
      "5\n",
      "4\n",
      "3\n",
      "2\n",
      "1\n"
     ]
    }
   ],
   "source": [
    "res = I.in_((1,2,3,4,5))\n",
    "print(res)"
   ]
  },
  {
   "cell_type": "code",
   "execution_count": 4,
   "metadata": {},
   "outputs": [
    {
     "name": "stdout",
     "output_type": "stream",
     "text": [
      "I\n",
      "-\n",
      "3\n",
      "2\n",
      "1\n",
      "0\n"
     ]
    }
   ],
   "source": [
    "res = I.in_(range(4))\n",
    "print(res)"
   ]
  },
  {
   "cell_type": "code",
   "execution_count": 5,
   "metadata": {},
   "outputs": [
    {
     "name": "stdout",
     "output_type": "stream",
     "text": [
      "I\n",
      "-\n",
      "7\n",
      "6\n",
      "5\n",
      "4\n",
      "3\n",
      "2\n",
      "1\n"
     ]
    }
   ],
   "source": [
    "list1 = [1,2,3,4,5,6,7]\n",
    "res = I.in_(list1)\n",
    "print(res)"
   ]
  },
  {
   "cell_type": "markdown",
   "metadata": {},
   "source": [
    "# Nested loop"
   ]
  },
  {
   "cell_type": "code",
   "execution_count": 6,
   "metadata": {},
   "outputs": [],
   "source": [
    "pyDatalog.create_terms('I,J')"
   ]
  },
  {
   "cell_type": "code",
   "execution_count": 7,
   "metadata": {},
   "outputs": [
    {
     "name": "stdout",
     "output_type": "stream",
     "text": [
      "I | J\n",
      "--|--\n",
      "4 | 4\n",
      "4 | 3\n",
      "4 | 2\n",
      "4 | 1\n",
      "4 | 0\n",
      "3 | 4\n",
      "3 | 3\n",
      "3 | 2\n",
      "3 | 1\n",
      "3 | 0\n",
      "2 | 4\n",
      "2 | 3\n",
      "2 | 2\n",
      "2 | 1\n",
      "2 | 0\n",
      "1 | 4\n",
      "1 | 3\n",
      "1 | 2\n",
      "1 | 1\n",
      "1 | 0\n",
      "0 | 4\n",
      "0 | 3\n",
      "0 | 2\n",
      "0 | 1\n",
      "0 | 0\n"
     ]
    }
   ],
   "source": [
    "res = I.in_(range(5)) & J.in_(range(5))\n",
    "print(res)"
   ]
  },
  {
   "cell_type": "code",
   "execution_count": 17,
   "metadata": {},
   "outputs": [],
   "source": [
    "pyDatalog.create_terms('I,J,K')"
   ]
  },
  {
   "cell_type": "code",
   "execution_count": 19,
   "metadata": {},
   "outputs": [
    {
     "name": "stdout",
     "output_type": "stream",
     "text": [
      "I | J | K\n",
      "--|---|--\n",
      "4 | 4 | 8\n",
      "4 | 3 | 7\n",
      "4 | 2 | 6\n",
      "4 | 1 | 5\n",
      "4 | 0 | 4\n",
      "3 | 4 | 7\n",
      "3 | 3 | 6\n",
      "3 | 2 | 5\n",
      "3 | 1 | 4\n",
      "3 | 0 | 3\n",
      "2 | 4 | 6\n",
      "2 | 3 | 5\n",
      "2 | 2 | 4\n",
      "2 | 1 | 3\n",
      "2 | 0 | 2\n",
      "1 | 4 | 5\n",
      "1 | 3 | 4\n",
      "1 | 2 | 3\n",
      "1 | 1 | 2\n",
      "1 | 0 | 1\n",
      "0 | 4 | 4\n",
      "0 | 3 | 3\n",
      "0 | 2 | 2\n",
      "0 | 1 | 1\n",
      "0 | 0 | 0\n"
     ]
    }
   ],
   "source": [
    "print(I.in_(range(5)) & J.in_(range(5)) & (K==I+J))"
   ]
  },
  {
   "cell_type": "code",
   "execution_count": 22,
   "metadata": {},
   "outputs": [
    {
     "name": "stdout",
     "output_type": "stream",
     "text": [
      "I | J | K\n",
      "--|---|--\n",
      "4 | 0 | 4\n",
      "3 | 1 | 4\n",
      "3 | 0 | 3\n",
      "2 | 2 | 4\n",
      "2 | 1 | 3\n",
      "2 | 0 | 2\n",
      "1 | 3 | 4\n",
      "1 | 2 | 3\n",
      "1 | 1 | 2\n",
      "1 | 0 | 1\n",
      "0 | 4 | 4\n",
      "0 | 3 | 3\n",
      "0 | 2 | 2\n",
      "0 | 1 | 1\n",
      "0 | 0 | 0\n"
     ]
    }
   ],
   "source": [
    "print(I.in_(range(5)) & J.in_(range(5)) & (K==I+J) & (K<5))"
   ]
  },
  {
   "cell_type": "code",
   "execution_count": 23,
   "metadata": {},
   "outputs": [],
   "source": [
    "pyDatalog.create_terms('X,Y,salary')"
   ]
  },
  {
   "cell_type": "code",
   "execution_count": 24,
   "metadata": {},
   "outputs": [
    {
     "name": "stdout",
     "output_type": "stream",
     "text": [
      "X    | Y    \n",
      "-----|------\n",
      "emp2 | 20000\n",
      "emp1 | 10000\n"
     ]
    }
   ],
   "source": [
    "+(salary['emp1']==10000)\n",
    "+(salary['emp2']==20000)\n",
    "print(salary[X]==Y)"
   ]
  },
  {
   "cell_type": "code",
   "execution_count": 25,
   "metadata": {},
   "outputs": [
    {
     "name": "stdout",
     "output_type": "stream",
     "text": [
      "Y    \n",
      "-----\n",
      "10000\n"
     ]
    }
   ],
   "source": [
    "print(salary['emp1']==Y)"
   ]
  },
  {
   "cell_type": "code",
   "execution_count": 26,
   "metadata": {},
   "outputs": [
    {
     "name": "stdout",
     "output_type": "stream",
     "text": [
      "X   \n",
      "----\n",
      "emp2\n"
     ]
    }
   ],
   "source": [
    "print(salary[X]==20000)"
   ]
  },
  {
   "cell_type": "code",
   "execution_count": 27,
   "metadata": {},
   "outputs": [
    {
     "name": "stdout",
     "output_type": "stream",
     "text": [
      "[]\n"
     ]
    }
   ],
   "source": [
    "print(salary[X]==200)"
   ]
  },
  {
   "cell_type": "code",
   "execution_count": 28,
   "metadata": {},
   "outputs": [],
   "source": [
    "pyDatalog.create_terms('X,Y,Z,manager,reports')"
   ]
  },
  {
   "cell_type": "code",
   "execution_count": 30,
   "metadata": {},
   "outputs": [
    {
     "name": "stdout",
     "output_type": "stream",
     "text": [
      "Y    | X   \n",
      "-----|-----\n",
      "Tom  | Mary\n",
      "Sam  | Mary\n",
      "Mary | Jhon\n"
     ]
    }
   ],
   "source": [
    "+(manager['Mary']=='Jhon')\n",
    "+(manager['Sam']=='Mary')\n",
    "+(manager['Tom']=='Mary')\n",
    "print(manager[Y]==X)\n"
   ]
  },
  {
   "cell_type": "code",
   "execution_count": 31,
   "metadata": {},
   "outputs": [
    {
     "name": "stdout",
     "output_type": "stream",
     "text": [
      "Z\n",
      "-\n",
      "2\n"
     ]
    }
   ],
   "source": [
    "+(manager['Mary']=='Jhon')\n",
    "+(manager['Sam']=='Mary')\n",
    "+(manager['Tom']=='Mary')\n",
    "(reports[X]==len_(Y)) <= (manager[Y]==X)\n",
    "print(reports['Mary']==Z)"
   ]
  },
  {
   "cell_type": "code",
   "execution_count": 32,
   "metadata": {},
   "outputs": [],
   "source": [
    "pyDatalog.create_terms('X,Y,college')"
   ]
  },
  {
   "cell_type": "code",
   "execution_count": 33,
   "metadata": {},
   "outputs": [
    {
     "name": "stdout",
     "output_type": "stream",
     "text": [
      "X      | Y    \n",
      "-------|------\n",
      "Anil   | IITD \n",
      "Arvind | MMMEC\n",
      "Amit   | SRM  \n"
     ]
    }
   ],
   "source": [
    "+(college['Arvind']=='MMMEC')\n",
    "+(college['Amit']=='SRM')\n",
    "+(college['Anil']=='IITD')\n",
    "print(college[X]==Y)"
   ]
  },
  {
   "cell_type": "code",
   "execution_count": 34,
   "metadata": {},
   "outputs": [
    {
     "name": "stdout",
     "output_type": "stream",
     "text": [
      "X     \n",
      "------\n",
      "Arvind\n"
     ]
    }
   ],
   "source": [
    "print(college[X]=='MMMEC')"
   ]
  },
  {
   "cell_type": "code",
   "execution_count": 35,
   "metadata": {},
   "outputs": [
    {
     "name": "stdout",
     "output_type": "stream",
     "text": [
      "Y  \n",
      "---\n",
      "SRM\n"
     ]
    }
   ],
   "source": [
    "print(college['Amit']==Y)"
   ]
  },
  {
   "cell_type": "markdown",
   "metadata": {},
   "source": [
    "# To find out factorial using pyDatalog"
   ]
  },
  {
   "cell_type": "code",
   "execution_count": 36,
   "metadata": {},
   "outputs": [],
   "source": [
    "pyDatalog.create_terms('N,factorial')"
   ]
  },
  {
   "cell_type": "code",
   "execution_count": 37,
   "metadata": {},
   "outputs": [
    {
     "name": "stdout",
     "output_type": "stream",
     "text": [
      "N  \n",
      "---\n",
      "120\n"
     ]
    }
   ],
   "source": [
    "factorial[N] = N*factorial[N-1]\n",
    "factorial[1] = 1\n",
    "factorial[0] = 0\n",
    "print(factorial[5]==N)"
   ]
  },
  {
   "cell_type": "code",
   "execution_count": 38,
   "metadata": {},
   "outputs": [
    {
     "name": "stdout",
     "output_type": "stream",
     "text": [
      "N\n",
      "-\n",
      "1\n"
     ]
    }
   ],
   "source": [
    "factorial[N] = N*factorial[N-1]\n",
    "factorial[1] = 1\n",
    "factorial[0] = 0\n",
    "print(factorial[1]==N)"
   ]
  },
  {
   "cell_type": "code",
   "execution_count": 39,
   "metadata": {},
   "outputs": [
    {
     "name": "stdout",
     "output_type": "stream",
     "text": [
      "N\n",
      "-\n",
      "0\n"
     ]
    }
   ],
   "source": [
    "factorial[N] = N*factorial[N-1]\n",
    "factorial[1] = 1\n",
    "factorial[0] = 0\n",
    "print(factorial[0]==N)"
   ]
  },
  {
   "cell_type": "markdown",
   "metadata": {},
   "source": [
    "# Encode the following facts and rules in pyDatalog:\n",
    "\n",
    "# Bear is big\n",
    "# Elephant is big\n",
    "# Cat is small\n",
    "# Bear is brown\n",
    "# Cat is black\n",
    "# Elephant is gray\n",
    "# An animal is dark if it is black\n",
    "# An animal is dark if it is brown\n",
    "\n",
    "# Write a query to find which animal is dark and big. \n"
   ]
  },
  {
   "cell_type": "code",
   "execution_count": 40,
   "metadata": {},
   "outputs": [],
   "source": [
    "pyDatalog.create_terms('Bear,Elephant,Cat,Big,Small,Black,Brown,Gray,X,size,color,Dark')"
   ]
  },
  {
   "cell_type": "code",
   "execution_count": 41,
   "metadata": {},
   "outputs": [
    {
     "name": "stdout",
     "output_type": "stream",
     "text": [
      "X   \n",
      "----\n",
      "Bear\n"
     ]
    }
   ],
   "source": [
    "+size('Bear','Big')\n",
    "+size('Elephant','Big')\n",
    "+size('Cat','Small')\n",
    "+color('Bear','Brown')\n",
    "+color('Cat','Black')\n",
    "+color('Elephant','Gray')\n",
    "Dark(X) <= (color(X,'Black'))\n",
    "Dark(X) <= (color(X,'Brown'))\n",
    "res = Dark(X) & size(X,'Big')\n",
    "print(res)"
   ]
  },
  {
   "cell_type": "code",
   "execution_count": null,
   "metadata": {},
   "outputs": [],
   "source": []
  },
  {
   "cell_type": "code",
   "execution_count": null,
   "metadata": {},
   "outputs": [],
   "source": []
  },
  {
   "cell_type": "code",
   "execution_count": null,
   "metadata": {},
   "outputs": [],
   "source": []
  },
  {
   "cell_type": "code",
   "execution_count": null,
   "metadata": {},
   "outputs": [],
   "source": []
  }
 ],
 "metadata": {
  "kernelspec": {
   "display_name": "Python 3",
   "language": "python",
   "name": "python3"
  },
  "language_info": {
   "codemirror_mode": {
    "name": "ipython",
    "version": 3
   },
   "file_extension": ".py",
   "mimetype": "text/x-python",
   "name": "python",
   "nbconvert_exporter": "python",
   "pygments_lexer": "ipython3",
   "version": "3.9.1"
  }
 },
 "nbformat": 4,
 "nbformat_minor": 4
}
