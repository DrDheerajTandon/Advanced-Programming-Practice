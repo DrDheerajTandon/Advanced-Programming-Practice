{
 "cells": [
  {
   "cell_type": "code",
   "execution_count": 1,
   "metadata": {},
   "outputs": [],
   "source": [
    "myprint = print"
   ]
  },
  {
   "cell_type": "code",
   "execution_count": 2,
   "metadata": {},
   "outputs": [
    {
     "name": "stdout",
     "output_type": "stream",
     "text": [
      "Hello CSE\n"
     ]
    }
   ],
   "source": [
    "myprint('Hello CSE')"
   ]
  },
  {
   "cell_type": "code",
   "execution_count": 3,
   "metadata": {},
   "outputs": [
    {
     "name": "stdout",
     "output_type": "stream",
     "text": [
      "0\n",
      "1\n",
      "2\n",
      "3\n",
      "4\n",
      "5\n",
      "6\n",
      "7\n",
      "8\n",
      "9\n"
     ]
    }
   ],
   "source": [
    "for i in range(10):\n",
    "    myprint(i)"
   ]
  },
  {
   "cell_type": "code",
   "execution_count": 4,
   "metadata": {},
   "outputs": [
    {
     "name": "stdout",
     "output_type": "stream",
     "text": [
      "Enter the string: hello arvind\n"
     ]
    },
    {
     "data": {
      "text/plain": [
       "'HELLO ARVIND'"
      ]
     },
     "execution_count": 4,
     "metadata": {},
     "output_type": "execute_result"
    }
   ],
   "source": [
    "def word(text):\n",
    "    return text.upper()\n",
    "\n",
    "s = input('Enter the string: ')\n",
    "word(s)"
   ]
  },
  {
   "cell_type": "code",
   "execution_count": 6,
   "metadata": {},
   "outputs": [
    {
     "name": "stdout",
     "output_type": "stream",
     "text": [
      "Enter the string: hello srm\n"
     ]
    },
    {
     "data": {
      "text/plain": [
       "'HELLO SRM'"
      ]
     },
     "execution_count": 6,
     "metadata": {},
     "output_type": "execute_result"
    }
   ],
   "source": [
    "def word(text):\n",
    "    return text.upper()\n",
    "\n",
    "s = input('Enter the string: ')\n",
    "#word(s)\n",
    "fun = word\n",
    "fun(s)"
   ]
  },
  {
   "cell_type": "code",
   "execution_count": 10,
   "metadata": {},
   "outputs": [
    {
     "name": "stdout",
     "output_type": "stream",
     "text": [
      "Enter the value: 5\n",
      "125\n"
     ]
    }
   ],
   "source": [
    "def cube(n):\n",
    "    return n**3\n",
    "\n",
    "n1 = int(input('Enter the value: '))\n",
    "res = cube(n1)\n",
    "#print(res)\n",
    "mycube = cube\n",
    "res1 = mycube(n1)\n",
    "print(res1)"
   ]
  },
  {
   "cell_type": "code",
   "execution_count": 13,
   "metadata": {},
   "outputs": [
    {
     "name": "stdout",
     "output_type": "stream",
     "text": [
      "Enter the string: hello srm\n",
      "HELLO SRM\n",
      "Enter the string: HELLO SRM\n",
      "hello srm\n"
     ]
    }
   ],
   "source": [
    "def speaker1(text):\n",
    "    return text.upper()\n",
    "\n",
    "def speaker2(text):\n",
    "    return text.lower()\n",
    "\n",
    "def player(fun):\n",
    "    s = input('Enter the string: ')\n",
    "    res = fun(s)\n",
    "    print(res)\n",
    "    \n",
    "player(speaker1)\n",
    "player(speaker2)"
   ]
  },
  {
   "cell_type": "code",
   "execution_count": 15,
   "metadata": {},
   "outputs": [
    {
     "data": {
      "text/plain": [
       "15"
      ]
     },
     "execution_count": 15,
     "metadata": {},
     "output_type": "execute_result"
    }
   ],
   "source": [
    "def add(x):\n",
    "    def inner_add(y):\n",
    "        return x+y\n",
    "    return inner_add\n",
    "\n",
    "sum_val = add(10)\n",
    "sum_val(5)"
   ]
  },
  {
   "cell_type": "code",
   "execution_count": 16,
   "metadata": {},
   "outputs": [],
   "source": [
    "def add(x):\n",
    "    def inner_add(y):\n",
    "        return x+y\n",
    "    return inner_add\n"
   ]
  },
  {
   "cell_type": "code",
   "execution_count": 17,
   "metadata": {},
   "outputs": [
    {
     "name": "stdout",
     "output_type": "stream",
     "text": [
      "10\n"
     ]
    },
    {
     "data": {
      "text/plain": [
       "15"
      ]
     },
     "execution_count": 17,
     "metadata": {},
     "output_type": "execute_result"
    }
   ],
   "source": [
    "def add(x):\n",
    "    print(x)\n",
    "    def inner_add(y):\n",
    "        return x+y\n",
    "    return inner_add\n",
    "\n",
    "sum_val = add(10)\n",
    "sum_val(5)"
   ]
  },
  {
   "cell_type": "code",
   "execution_count": 21,
   "metadata": {},
   "outputs": [
    {
     "name": "stdout",
     "output_type": "stream",
     "text": [
      "10\n",
      "10 5\n"
     ]
    },
    {
     "data": {
      "text/plain": [
       "15"
      ]
     },
     "execution_count": 21,
     "metadata": {},
     "output_type": "execute_result"
    }
   ],
   "source": [
    "def add(x):\n",
    "    print(x)\n",
    "    def inner_add(y):\n",
    "        print(x,y)\n",
    "        return x+y\n",
    "    return inner_add\n",
    "\n",
    "sum_val = add(10)\n",
    "sum_val(5)"
   ]
  }
 ],
 "metadata": {
  "kernelspec": {
   "display_name": "Python 3",
   "language": "python",
   "name": "python3"
  },
  "language_info": {
   "codemirror_mode": {
    "name": "ipython",
    "version": 3
   },
   "file_extension": ".py",
   "mimetype": "text/x-python",
   "name": "python",
   "nbconvert_exporter": "python",
   "pygments_lexer": "ipython3",
   "version": "3.9.1"
  }
 },
 "nbformat": 4,
 "nbformat_minor": 4
}
