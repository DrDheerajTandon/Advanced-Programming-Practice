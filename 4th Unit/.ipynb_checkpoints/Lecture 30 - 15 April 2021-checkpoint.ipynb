{
 "cells": [
  {
   "cell_type": "markdown",
   "metadata": {},
   "source": [
    "# Decorator"
   ]
  },
  {
   "cell_type": "code",
   "execution_count": 1,
   "metadata": {},
   "outputs": [
    {
     "name": "stdout",
     "output_type": "stream",
     "text": [
      "Hello\n",
      "Python\n"
     ]
    }
   ],
   "source": [
    "def display():\n",
    "    print('Hello')\n",
    "    print('Python')\n",
    "    \n",
    "display()"
   ]
  },
  {
   "cell_type": "code",
   "execution_count": 2,
   "metadata": {},
   "outputs": [
    {
     "name": "stdout",
     "output_type": "stream",
     "text": [
      "Hello\n",
      "Python\n",
      "India\n"
     ]
    }
   ],
   "source": [
    "def display():\n",
    "    print('Hello')\n",
    "    print('Python')\n",
    "    print('India')\n",
    "    \n",
    "display()"
   ]
  },
  {
   "cell_type": "code",
   "execution_count": 4,
   "metadata": {},
   "outputs": [
    {
     "name": "stdout",
     "output_type": "stream",
     "text": [
      "Hello\n",
      "Python\n",
      "India\n"
     ]
    }
   ],
   "source": [
    "def decor(fun):\n",
    "    def inner():\n",
    "        fun()\n",
    "        print('India')\n",
    "    return inner\n",
    "\n",
    "def display():\n",
    "    print('Hello')\n",
    "    print('Python')\n",
    "    \n",
    "result = decor(display)\n",
    "result()"
   ]
  },
  {
   "cell_type": "code",
   "execution_count": 5,
   "metadata": {},
   "outputs": [
    {
     "name": "stdout",
     "output_type": "stream",
     "text": [
      "SRM\n",
      "Hello\n",
      "Python\n",
      "India\n"
     ]
    }
   ],
   "source": [
    "def decor(fun):\n",
    "    def inner():\n",
    "        print('SRM')\n",
    "        fun()\n",
    "        print('India')\n",
    "    return inner\n",
    "\n",
    "def display():\n",
    "    print('Hello')\n",
    "    print('Python')\n",
    "    \n",
    "result = decor(display)\n",
    "result()"
   ]
  },
  {
   "cell_type": "code",
   "execution_count": 6,
   "metadata": {},
   "outputs": [
    {
     "name": "stdout",
     "output_type": "stream",
     "text": [
      "SRM\n",
      "Hello\n",
      "Python\n",
      "India\n"
     ]
    }
   ],
   "source": [
    "def decor(display):\n",
    "    def inner():\n",
    "        print('SRM')\n",
    "        display()\n",
    "        print('India')\n",
    "    return inner\n",
    "\n",
    "def display():\n",
    "    print('Hello')\n",
    "    print('Python')\n",
    "    \n",
    "result = decor(display)\n",
    "result()"
   ]
  },
  {
   "cell_type": "code",
   "execution_count": 7,
   "metadata": {},
   "outputs": [
    {
     "name": "stdout",
     "output_type": "stream",
     "text": [
      "SRM\n",
      "Hello\n",
      "Python\n",
      "India\n"
     ]
    }
   ],
   "source": [
    "def decor(display):\n",
    "    def inner():\n",
    "        print('SRM')\n",
    "        display()\n",
    "        print('India')\n",
    "    return inner\n",
    "\n",
    "def display():\n",
    "    print('Hello')\n",
    "    print('Python')\n",
    "    \n",
    "display = decor(display)\n",
    "display()"
   ]
  },
  {
   "cell_type": "code",
   "execution_count": 8,
   "metadata": {},
   "outputs": [
    {
     "name": "stdout",
     "output_type": "stream",
     "text": [
      "SRM\n",
      "Hello\n",
      "Python\n",
      "India\n"
     ]
    }
   ],
   "source": [
    "def decor(display):\n",
    "    def inner():\n",
    "        print('SRM')\n",
    "        display()\n",
    "        print('India')\n",
    "    return inner\n",
    "\n",
    "@decor\n",
    "def display():\n",
    "    print('Hello')\n",
    "    print('Python')\n",
    "    \n",
    "display()"
   ]
  },
  {
   "cell_type": "code",
   "execution_count": 9,
   "metadata": {},
   "outputs": [
    {
     "data": {
      "text/plain": [
       "10"
      ]
     },
     "execution_count": 9,
     "metadata": {},
     "output_type": "execute_result"
    }
   ],
   "source": [
    "def num():\n",
    "    return 10\n",
    "\n",
    "num()"
   ]
  },
  {
   "cell_type": "code",
   "execution_count": 10,
   "metadata": {},
   "outputs": [
    {
     "data": {
      "text/plain": [
       "15"
      ]
     },
     "execution_count": 10,
     "metadata": {},
     "output_type": "execute_result"
    }
   ],
   "source": [
    "def decor(num):\n",
    "    def inner():\n",
    "        return num()+5\n",
    "    return inner\n",
    "        \n",
    "@decor\n",
    "def num():\n",
    "    return 10\n",
    "\n",
    "num()"
   ]
  },
  {
   "cell_type": "code",
   "execution_count": 13,
   "metadata": {},
   "outputs": [
    {
     "data": {
      "text/plain": [
       "15"
      ]
     },
     "execution_count": 13,
     "metadata": {},
     "output_type": "execute_result"
    }
   ],
   "source": [
    "def decor1(num):\n",
    "    def inner():\n",
    "        return num()*5\n",
    "    return inner\n",
    "\n",
    "def decor(num):\n",
    "    def inner():\n",
    "        return num()+5\n",
    "    return inner\n",
    "        \n",
    "@decor\n",
    "def num():\n",
    "    return 10\n",
    "\n",
    "num()"
   ]
  },
  {
   "cell_type": "code",
   "execution_count": 14,
   "metadata": {},
   "outputs": [
    {
     "data": {
      "text/plain": [
       "50"
      ]
     },
     "execution_count": 14,
     "metadata": {},
     "output_type": "execute_result"
    }
   ],
   "source": [
    "def decor1(num):\n",
    "    def inner():\n",
    "        return num()*5\n",
    "    return inner\n",
    "\n",
    "def decor(num):\n",
    "    def inner():\n",
    "        return num()+5\n",
    "    return inner\n",
    "        \n",
    "@decor1\n",
    "def num():\n",
    "    return 10\n",
    "\n",
    "num()"
   ]
  },
  {
   "cell_type": "code",
   "execution_count": 15,
   "metadata": {},
   "outputs": [
    {
     "data": {
      "text/plain": [
       "55"
      ]
     },
     "execution_count": 15,
     "metadata": {},
     "output_type": "execute_result"
    }
   ],
   "source": [
    "def decor1(num):\n",
    "    def inner():\n",
    "        return num()*5\n",
    "    return inner\n",
    "\n",
    "def decor(num):\n",
    "    def inner():\n",
    "        return num()+5\n",
    "    return inner\n",
    "\n",
    "@decor\n",
    "@decor1\n",
    "def num():\n",
    "    return 10\n",
    "\n",
    "num()"
   ]
  },
  {
   "cell_type": "code",
   "execution_count": 17,
   "metadata": {},
   "outputs": [
    {
     "data": {
      "text/plain": [
       "55"
      ]
     },
     "execution_count": 17,
     "metadata": {},
     "output_type": "execute_result"
    }
   ],
   "source": [
    "def decor1(num):\n",
    "    def inner():\n",
    "        return num()*5\n",
    "    return inner\n",
    "\n",
    "def decor(num):\n",
    "    def inner():\n",
    "        return num()+5\n",
    "    return inner\n",
    "\n",
    "\n",
    "def num():\n",
    "    return 10\n",
    "\n",
    "num = decor(decor1(num))\n",
    "num()"
   ]
  },
  {
   "cell_type": "code",
   "execution_count": 18,
   "metadata": {},
   "outputs": [
    {
     "data": {
      "text/plain": [
       "75"
      ]
     },
     "execution_count": 18,
     "metadata": {},
     "output_type": "execute_result"
    }
   ],
   "source": [
    "def decor1(num):\n",
    "    def inner():\n",
    "        return num()*5\n",
    "    return inner\n",
    "\n",
    "def decor(num):\n",
    "    def inner():\n",
    "        return num()+5\n",
    "    return inner\n",
    "\n",
    "\n",
    "def num():\n",
    "    return 10\n",
    "\n",
    "num = decor1(decor(num))\n",
    "num()"
   ]
  },
  {
   "cell_type": "code",
   "execution_count": 16,
   "metadata": {},
   "outputs": [
    {
     "data": {
      "text/plain": [
       "75"
      ]
     },
     "execution_count": 16,
     "metadata": {},
     "output_type": "execute_result"
    }
   ],
   "source": [
    "def decor1(num):\n",
    "    def inner():\n",
    "        return num()*5\n",
    "    return inner\n",
    "\n",
    "def decor(num):\n",
    "    def inner():\n",
    "        return num()+5\n",
    "    return inner\n",
    "\n",
    "@decor1\n",
    "@decor\n",
    "def num():\n",
    "    return 10\n",
    "\n",
    "num()"
   ]
  },
  {
   "cell_type": "markdown",
   "metadata": {},
   "source": [
    "# Pure Function"
   ]
  },
  {
   "cell_type": "code",
   "execution_count": 19,
   "metadata": {},
   "outputs": [
    {
     "name": "stdout",
     "output_type": "stream",
     "text": [
      "Python\n"
     ]
    }
   ],
   "source": [
    "print('Python')"
   ]
  },
  {
   "cell_type": "code",
   "execution_count": 20,
   "metadata": {},
   "outputs": [
    {
     "name": "stdout",
     "output_type": "stream",
     "text": [
      "Python\n"
     ]
    }
   ],
   "source": [
    "print('Python')"
   ]
  },
  {
   "cell_type": "code",
   "execution_count": 21,
   "metadata": {},
   "outputs": [],
   "source": [
    "import math"
   ]
  },
  {
   "cell_type": "code",
   "execution_count": 22,
   "metadata": {},
   "outputs": [
    {
     "name": "stdout",
     "output_type": "stream",
     "text": [
      "2.0\n"
     ]
    }
   ],
   "source": [
    "r = math.sqrt(4)\n",
    "print(r)"
   ]
  },
  {
   "cell_type": "code",
   "execution_count": 23,
   "metadata": {},
   "outputs": [
    {
     "name": "stdout",
     "output_type": "stream",
     "text": [
      "2.0\n"
     ]
    }
   ],
   "source": [
    "r = math.sqrt(4)\n",
    "print(r)"
   ]
  },
  {
   "cell_type": "code",
   "execution_count": 24,
   "metadata": {},
   "outputs": [
    {
     "name": "stdout",
     "output_type": "stream",
     "text": [
      "1.4142135623730951\n"
     ]
    }
   ],
   "source": [
    "r = math.sqrt(2)\n",
    "print(r)"
   ]
  },
  {
   "cell_type": "code",
   "execution_count": 25,
   "metadata": {},
   "outputs": [
    {
     "name": "stdout",
     "output_type": "stream",
     "text": [
      "1.4142135623730951\n"
     ]
    }
   ],
   "source": [
    "r = math.sqrt(2)\n",
    "print(r)"
   ]
  },
  {
   "cell_type": "markdown",
   "metadata": {},
   "source": [
    "# Impure Functions"
   ]
  },
  {
   "cell_type": "code",
   "execution_count": 26,
   "metadata": {},
   "outputs": [],
   "source": [
    "import random"
   ]
  },
  {
   "cell_type": "code",
   "execution_count": 27,
   "metadata": {},
   "outputs": [
    {
     "name": "stdout",
     "output_type": "stream",
     "text": [
      "72\n"
     ]
    }
   ],
   "source": [
    "r = random.randint(1,100)\n",
    "print(r)"
   ]
  },
  {
   "cell_type": "code",
   "execution_count": 28,
   "metadata": {},
   "outputs": [
    {
     "name": "stdout",
     "output_type": "stream",
     "text": [
      "66\n"
     ]
    }
   ],
   "source": [
    "r = random.randint(1,100)\n",
    "print(r)"
   ]
  },
  {
   "cell_type": "code",
   "execution_count": 29,
   "metadata": {},
   "outputs": [],
   "source": [
    "import time"
   ]
  },
  {
   "cell_type": "code",
   "execution_count": 30,
   "metadata": {},
   "outputs": [
    {
     "name": "stdout",
     "output_type": "stream",
     "text": [
      "1618467588.7869463\n"
     ]
    }
   ],
   "source": [
    "r = time.time()\n",
    "print(r)"
   ]
  },
  {
   "cell_type": "code",
   "execution_count": 31,
   "metadata": {},
   "outputs": [
    {
     "name": "stdout",
     "output_type": "stream",
     "text": [
      "1618467591.1148438\n"
     ]
    }
   ],
   "source": [
    "r = time.time()\n",
    "print(r)"
   ]
  }
 ],
 "metadata": {
  "kernelspec": {
   "display_name": "Python 3",
   "language": "python",
   "name": "python3"
  },
  "language_info": {
   "codemirror_mode": {
    "name": "ipython",
    "version": 3
   },
   "file_extension": ".py",
   "mimetype": "text/x-python",
   "name": "python",
   "nbconvert_exporter": "python",
   "pygments_lexer": "ipython3",
   "version": "3.9.1"
  }
 },
 "nbformat": 4,
 "nbformat_minor": 4
}
