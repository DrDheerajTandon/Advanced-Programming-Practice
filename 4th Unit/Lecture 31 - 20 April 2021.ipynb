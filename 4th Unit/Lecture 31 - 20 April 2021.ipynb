{
 "cells": [
  {
   "cell_type": "markdown",
   "metadata": {},
   "source": [
    "# Decorators in Class"
   ]
  },
  {
   "cell_type": "code",
   "execution_count": 2,
   "metadata": {},
   "outputs": [
    {
     "name": "stdout",
     "output_type": "stream",
     "text": [
      "Decoration started\n",
      "Class A Method\n",
      "Decoration end\n"
     ]
    }
   ],
   "source": [
    "class A:\n",
    "    \n",
    "    def decor(fun):\n",
    "        def inner(self):\n",
    "            print('Decoration started')\n",
    "            fun(self)\n",
    "            print('Decoration end')\n",
    "        return inner\n",
    "    \n",
    "    @decor\n",
    "    def show(self):\n",
    "        print('Class A Method')\n",
    "        \n",
    "obj = A()\n",
    "obj.show()"
   ]
  },
  {
   "cell_type": "code",
   "execution_count": 4,
   "metadata": {},
   "outputs": [
    {
     "name": "stdout",
     "output_type": "stream",
     "text": [
      "Decoration started\n",
      "Class B Method\n",
      "Decoration end\n",
      "Decoration started\n",
      "Class A Method\n",
      "Decoration end\n"
     ]
    }
   ],
   "source": [
    "class A:\n",
    "    \n",
    "    def decor(fun):\n",
    "        def inner(self):\n",
    "            print('Decoration started')\n",
    "            fun(self)\n",
    "            print('Decoration end')\n",
    "        return inner\n",
    "    \n",
    "    @decor\n",
    "    def show(self):\n",
    "        print('Class A Method')\n",
    "        \n",
    "class B(A):\n",
    "    @A.decor\n",
    "    def display(self):\n",
    "        print('Class B Method')\n",
    "        \n",
    "obj = B()\n",
    "obj.display()\n",
    "obj.show()"
   ]
  },
  {
   "cell_type": "markdown",
   "metadata": {},
   "source": [
    "# pyDatalog"
   ]
  },
  {
   "cell_type": "code",
   "execution_count": 5,
   "metadata": {},
   "outputs": [],
   "source": [
    "from pyDatalog import pyDatalog"
   ]
  },
  {
   "cell_type": "code",
   "execution_count": 6,
   "metadata": {},
   "outputs": [],
   "source": [
    "pyDatalog.create_terms('X,Y')"
   ]
  },
  {
   "cell_type": "code",
   "execution_count": 7,
   "metadata": {},
   "outputs": [
    {
     "name": "stdout",
     "output_type": "stream",
     "text": [
      "X\n",
      "-\n",
      "1\n"
     ]
    }
   ],
   "source": [
    "print(X==1)"
   ]
  },
  {
   "cell_type": "code",
   "execution_count": 9,
   "metadata": {},
   "outputs": [
    {
     "name": "stdout",
     "output_type": "stream",
     "text": [
      "Y  \n",
      "---\n",
      "143\n"
     ]
    }
   ],
   "source": [
    "print(Y==143)"
   ]
  },
  {
   "cell_type": "code",
   "execution_count": 11,
   "metadata": {},
   "outputs": [
    {
     "name": "stdout",
     "output_type": "stream",
     "text": [
      "X   \n",
      "----\n",
      "True\n"
     ]
    }
   ],
   "source": [
    "print((X==True))"
   ]
  },
  {
   "cell_type": "code",
   "execution_count": 12,
   "metadata": {},
   "outputs": [
    {
     "name": "stdout",
     "output_type": "stream",
     "text": [
      "Y    \n",
      "-----\n",
      "False\n"
     ]
    }
   ],
   "source": [
    "print((Y==False))"
   ]
  },
  {
   "cell_type": "code",
   "execution_count": 13,
   "metadata": {},
   "outputs": [
    {
     "name": "stdout",
     "output_type": "stream",
     "text": [
      "X    | Y    \n",
      "-----|------\n",
      "True | False\n"
     ]
    }
   ],
   "source": [
    "print((X==True) & (Y==False))"
   ]
  },
  {
   "cell_type": "code",
   "execution_count": 14,
   "metadata": {},
   "outputs": [
    {
     "name": "stdout",
     "output_type": "stream",
     "text": [
      "[]\n"
     ]
    }
   ],
   "source": [
    "print((X==True) & (X==False))"
   ]
  },
  {
   "cell_type": "code",
   "execution_count": 15,
   "metadata": {},
   "outputs": [
    {
     "name": "stdout",
     "output_type": "stream",
     "text": [
      "Please enter your name : Arvind\n",
      "X      | Y           \n",
      "-------|-------------\n",
      "Arvind | Hello Arvind\n"
     ]
    }
   ],
   "source": [
    "print((X==input('Please enter your name : ')) & (Y=='Hello ' + X))"
   ]
  },
  {
   "cell_type": "code",
   "execution_count": 16,
   "metadata": {},
   "outputs": [
    {
     "name": "stdout",
     "output_type": "stream",
     "text": [
      "Please enter your name : Arvind\n",
      "X      | Y      \n",
      "-------|--------\n",
      "Arvind | Hello A\n"
     ]
    }
   ],
   "source": [
    "print((X==input('Please enter your name : ')) & (Y=='Hello ' + X[0]))"
   ]
  },
  {
   "cell_type": "code",
   "execution_count": 17,
   "metadata": {},
   "outputs": [
    {
     "name": "stdout",
     "output_type": "stream",
     "text": [
      "X         | Y\n",
      "----------|--\n",
      "(1, 2, 3) | 3\n"
     ]
    }
   ],
   "source": [
    "s=(X==(1,2,3)) & (Y==X[2])\n",
    "print(s)"
   ]
  },
  {
   "cell_type": "code",
   "execution_count": 18,
   "metadata": {},
   "outputs": [
    {
     "name": "stdout",
     "output_type": "stream",
     "text": [
      "X | Y\n",
      "--|--\n",
      "1 | 2\n"
     ]
    }
   ],
   "source": [
    "def twice(a):\n",
    "     return a+a\n",
    "\n",
    "pyDatalog.create_terms('twice')\n",
    "print((X==1) & (Y==twice(X)))"
   ]
  },
  {
   "cell_type": "code",
   "execution_count": 24,
   "metadata": {},
   "outputs": [
    {
     "name": "stdout",
     "output_type": "stream",
     "text": [
      "X\n",
      "-\n",
      "2\n"
     ]
    },
    {
     "ename": "TypeError",
     "evalue": "unsupported operand type(s) for &: 'NoneType' and 'Query'",
     "output_type": "error",
     "traceback": [
      "\u001b[1;31m---------------------------------------------------------------------------\u001b[0m",
      "\u001b[1;31mTypeError\u001b[0m                                 Traceback (most recent call last)",
      "\u001b[1;32m<ipython-input-24-5e9c9ae5179e>\u001b[0m in \u001b[0;36m<module>\u001b[1;34m\u001b[0m\n\u001b[0;32m      1\u001b[0m \u001b[1;32mimport\u001b[0m \u001b[0mmath\u001b[0m\u001b[1;33m\u001b[0m\u001b[1;33m\u001b[0m\u001b[0m\n\u001b[0;32m      2\u001b[0m \u001b[0mpyDatalog\u001b[0m\u001b[1;33m.\u001b[0m\u001b[0mcreate_terms\u001b[0m\u001b[1;33m(\u001b[0m\u001b[1;34m'X, Y'\u001b[0m\u001b[1;33m)\u001b[0m\u001b[1;33m\u001b[0m\u001b[1;33m\u001b[0m\u001b[0m\n\u001b[1;32m----> 3\u001b[1;33m \u001b[0mprint\u001b[0m\u001b[1;33m(\u001b[0m\u001b[0mX\u001b[0m\u001b[1;33m==\u001b[0m\u001b[1;36m2\u001b[0m\u001b[1;33m)\u001b[0m \u001b[1;33m&\u001b[0m \u001b[1;33m(\u001b[0m\u001b[0mY\u001b[0m\u001b[1;33m==\u001b[0m \u001b[0mmath\u001b[0m\u001b[1;33m.\u001b[0m\u001b[0msqrt\u001b[0m\u001b[1;33m(\u001b[0m\u001b[0mX\u001b[0m\u001b[1;33m)\u001b[0m\u001b[1;33m)\u001b[0m\u001b[1;33m\u001b[0m\u001b[1;33m\u001b[0m\u001b[0m\n\u001b[0m",
      "\u001b[1;31mTypeError\u001b[0m: unsupported operand type(s) for &: 'NoneType' and 'Query'"
     ]
    }
   ],
   "source": [
    "import math\n",
    "pyDatalog.create_terms('X, Y')\n",
    "print(X==2) & (Y== math.sqrt(X))"
   ]
  },
  {
   "cell_type": "code",
   "execution_count": 25,
   "metadata": {},
   "outputs": [
    {
     "name": "stdout",
     "output_type": "stream",
     "text": [
      "X\n",
      "-\n",
      "4\n",
      "3\n",
      "2\n",
      "1\n",
      "0\n"
     ]
    }
   ],
   "source": [
    "from pyDatalog import pyDatalog\n",
    "pyDatalog.create_terms('X,Y,Z')\n",
    "# give me all the X so that X is in the range 0..4\n",
    "print(X.in_((0,1,2,3,4)))"
   ]
  },
  {
   "cell_type": "code",
   "execution_count": 27,
   "metadata": {},
   "outputs": [
    {
     "name": "stdout",
     "output_type": "stream",
     "text": [
      "X\n",
      "-\n",
      "9\n",
      "8\n",
      "7\n",
      "6\n",
      "5\n",
      "4\n",
      "3\n",
      "2\n",
      "1\n",
      "0\n"
     ]
    }
   ],
   "source": [
    "print(X.in_(range(10)))"
   ]
  },
  {
   "cell_type": "code",
   "execution_count": null,
   "metadata": {},
   "outputs": [],
   "source": []
  }
 ],
 "metadata": {
  "kernelspec": {
   "display_name": "Python 3",
   "language": "python",
   "name": "python3"
  },
  "language_info": {
   "codemirror_mode": {
    "name": "ipython",
    "version": 3
   },
   "file_extension": ".py",
   "mimetype": "text/x-python",
   "name": "python",
   "nbconvert_exporter": "python",
   "pygments_lexer": "ipython3",
   "version": "3.9.1"
  }
 },
 "nbformat": 4,
 "nbformat_minor": 4
}
